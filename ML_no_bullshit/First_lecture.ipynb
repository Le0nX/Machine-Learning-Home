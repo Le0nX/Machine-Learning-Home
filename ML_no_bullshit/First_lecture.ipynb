{
 "cells": [
  {
   "cell_type": "markdown",
   "metadata": {},
   "source": [
    "# Machine Learning без х*йни"
   ]
  },
  {
   "cell_type": "markdown",
   "metadata": {},
   "source": [
    "Сначала захреначим кучу всяких макросов"
   ]
  },
  {
   "cell_type": "code",
   "execution_count": 1,
   "metadata": {},
   "outputs": [],
   "source": [
    "%load_ext autoreload \n",
    "%autoreload 2\n",
    "\n",
    "%matplotlib inline"
   ]
  },
  {
   "cell_type": "markdown",
   "metadata": {},
   "source": [
    "Дальше импортнем библиотеки... Недостоющие библиотеке устанавливаем через pip install <название пакета>. Название пакет выдается при ошибке. Если не получается установить - то гуглим ошибку. Возможно название пакета отличается от выданного в ошибке."
   ]
  },
  {
   "cell_type": "code",
   "execution_count": 1,
   "metadata": {},
   "outputs": [],
   "source": [
    "\n",
    "from fastai.imports import *\n",
    "from fastai.structured import *\n",
    "\n",
    "from pandas_summary import DataFrameSummary\n",
    "from sklearn.ensemble import RandomForestRegressor, RandomForestClassifier\n",
    "from IPython.display import display\n",
    "\n",
    "from sklearn import metrics"
   ]
  },
  {
   "cell_type": "markdown",
   "metadata": {},
   "source": [
    "Создадим переменную, которая будет содержать путь к нашим данным. Создаем папку, кладем данные с kaggle(подробнее читайте ниже), прописываем путь до папки с данными."
   ]
  },
  {
   "cell_type": "code",
   "execution_count": 2,
   "metadata": {},
   "outputs": [],
   "source": [
    "PATH = \"data/bulldozers/\""
   ]
  },
  {
   "cell_type": "code",
   "execution_count": 4,
   "metadata": {},
   "outputs": [
    {
     "name": "stdout",
     "output_type": "stream",
     "text": [
      "Train.csv\r\n"
     ]
    }
   ],
   "source": [
    "!ls {PATH}"
   ]
  },
  {
   "cell_type": "markdown",
   "metadata": {},
   "source": [
    "## Данные "
   ]
  },
  {
   "cell_type": "markdown",
   "metadata": {},
   "source": [
    "Для теста берем данные из соревнования Blue Book for Bulldozers Kaggle Competition, цель которого предсказать стоимость оборудования на аукционе на основе данных о его предназначении, конфигурации и использовании. Данные взяты с прошедших аукционов."
   ]
  },
  {
   "cell_type": "markdown",
   "metadata": {},
   "source": [
    "### ...Подробнее о данных"
   ]
  },
  {
   "cell_type": "markdown",
   "metadata": {},
   "source": [
    "Kaggle немного рассказывает о некоторых полях данных. На https://www.kaggle.com/c/bluebook-for-bulldozers/data написано, что данные разбиты на три части:\n",
    "- **Train.csv** - тренировочный датасет, который содержит данные до 2011\n",
    "- **Valid.csv** - validation set, это основной датасет, на котором происходит проверка алгоритмов в соревнованиях Kaggle. Предсказания на основе него попадают в таблицу leaderboard.\n",
    "- **Test.csv** - Датасет загружается за неделю до конца соревнований и на его основе считается твой final rank в таблице результатов.\n",
    "\n",
    "Ключевые поля в train.csv:\n",
    "- SalesID: уникальный ID продажи\n",
    "- MachineID: Уникальный ID машины. Машина может быть продана несколько раз\n",
    "- saleprice: Цена продажи машины на аукционе (есть только в train.csv)\n",
    "- saledate: Дата продажи."
   ]
  },
  {
   "cell_type": "markdown",
   "metadata": {},
   "source": [
    "Обычно всегда стоит посмотреть на то, как реально выглядят данные,чтобы понимать их структуру, что содержится в полях и т.д. Создадим переменную `df_raw`, в которую загрузим датасет `Train.csv`.`pd.read_csv` - считываемт файл формата .csv и создает датасет. В данной функции присутствует множество параметров по-умолчанию(подробнее читайте документацию), но обсудим только используемые: 1) путь до файла -  тут, думаю, все понятно. 2) Отлючаем оптимизацию по памяти `low_memory`,так как в случае использования данного функционала возможно смешивание типов, в то время как мы стараемся всё четко структуризировать. 3) `parse_dates` параметр принимает имя столбца и делает его данные типом `datetime` (формат даты). Об этом мы поговорим чуть позже."
   ]
  },
  {
   "cell_type": "code",
   "execution_count": 5,
   "metadata": {},
   "outputs": [],
   "source": [
    "df_raw = pd.read_csv(f'{PATH}Train.csv', low_memory=False, \n",
    "                     parse_dates=[\"saledate\"])"
   ]
  },
  {
   "cell_type": "markdown",
   "metadata": {},
   "source": [
    "Использовавав `?` перед вызовом функции, мы можем почитать документацию о ней."
   ]
  },
  {
   "cell_type": "code",
   "execution_count": 6,
   "metadata": {},
   "outputs": [],
   "source": [
    "?pd.read_csv()"
   ]
  },
  {
   "cell_type": "markdown",
   "metadata": {},
   "source": [
    "Зафигачим быстренько функцию для вывода данных. Через `def` создаём функцию отображения нашей таблицы. Операторы `with` следят за тем, чтобы таблица входила в размеры 1000 х 1000. Функция `display` производит отображение таблицы (что то типа умного print)"
   ]
  },
  {
   "cell_type": "code",
   "execution_count": 7,
   "metadata": {},
   "outputs": [],
   "source": [
    "def display_all(df):\n",
    "    with pd.option_context(\"display.max_rows\", 1000):\n",
    "        with pd.option_context(\"display.max_columns\", 1000):\n",
    "            display(df)"
   ]
  },
  {
   "cell_type": "code",
   "execution_count": 8,
   "metadata": {},
   "outputs": [],
   "source": [
    "?display()"
   ]
  },
  {
   "cell_type": "markdown",
   "metadata": {},
   "source": [
    "`.transpose()` инвертирует таблицу так, чтобы заголовки столбцов были слева. Чётко говоря - транспонирует таблицу."
   ]
  },
  {
   "cell_type": "markdown",
   "metadata": {},
   "source": [
    "`df_raw.head()` - устанавливает сколько строк от начала нам вывести, но так как мы транспонируем таблицу, - то устанавливает сколько столбцов нам вывести."
   ]
  },
  {
   "cell_type": "code",
   "execution_count": 9,
   "metadata": {},
   "outputs": [
    {
     "data": {
      "text/html": [
       "<div>\n",
       "<style scoped>\n",
       "    .dataframe tbody tr th:only-of-type {\n",
       "        vertical-align: middle;\n",
       "    }\n",
       "\n",
       "    .dataframe tbody tr th {\n",
       "        vertical-align: top;\n",
       "    }\n",
       "\n",
       "    .dataframe thead th {\n",
       "        text-align: right;\n",
       "    }\n",
       "</style>\n",
       "<table border=\"1\" class=\"dataframe\">\n",
       "  <thead>\n",
       "    <tr style=\"text-align: right;\">\n",
       "      <th></th>\n",
       "      <th>0</th>\n",
       "      <th>1</th>\n",
       "      <th>2</th>\n",
       "      <th>3</th>\n",
       "      <th>4</th>\n",
       "      <th>5</th>\n",
       "      <th>6</th>\n",
       "      <th>7</th>\n",
       "      <th>8</th>\n",
       "      <th>9</th>\n",
       "    </tr>\n",
       "  </thead>\n",
       "  <tbody>\n",
       "    <tr>\n",
       "      <th>SalesID</th>\n",
       "      <td>1139246</td>\n",
       "      <td>1139248</td>\n",
       "      <td>1139249</td>\n",
       "      <td>1139251</td>\n",
       "      <td>1139253</td>\n",
       "      <td>1139255</td>\n",
       "      <td>1139256</td>\n",
       "      <td>1139261</td>\n",
       "      <td>1139272</td>\n",
       "      <td>1139275</td>\n",
       "    </tr>\n",
       "    <tr>\n",
       "      <th>SalePrice</th>\n",
       "      <td>66000</td>\n",
       "      <td>57000</td>\n",
       "      <td>10000</td>\n",
       "      <td>38500</td>\n",
       "      <td>11000</td>\n",
       "      <td>26500</td>\n",
       "      <td>21000</td>\n",
       "      <td>27000</td>\n",
       "      <td>21500</td>\n",
       "      <td>65000</td>\n",
       "    </tr>\n",
       "    <tr>\n",
       "      <th>MachineID</th>\n",
       "      <td>999089</td>\n",
       "      <td>117657</td>\n",
       "      <td>434808</td>\n",
       "      <td>1026470</td>\n",
       "      <td>1057373</td>\n",
       "      <td>1001274</td>\n",
       "      <td>772701</td>\n",
       "      <td>902002</td>\n",
       "      <td>1036251</td>\n",
       "      <td>1016474</td>\n",
       "    </tr>\n",
       "    <tr>\n",
       "      <th>ModelID</th>\n",
       "      <td>3157</td>\n",
       "      <td>77</td>\n",
       "      <td>7009</td>\n",
       "      <td>332</td>\n",
       "      <td>17311</td>\n",
       "      <td>4605</td>\n",
       "      <td>1937</td>\n",
       "      <td>3539</td>\n",
       "      <td>36003</td>\n",
       "      <td>3883</td>\n",
       "    </tr>\n",
       "    <tr>\n",
       "      <th>datasource</th>\n",
       "      <td>121</td>\n",
       "      <td>121</td>\n",
       "      <td>121</td>\n",
       "      <td>121</td>\n",
       "      <td>121</td>\n",
       "      <td>121</td>\n",
       "      <td>121</td>\n",
       "      <td>121</td>\n",
       "      <td>121</td>\n",
       "      <td>121</td>\n",
       "    </tr>\n",
       "    <tr>\n",
       "      <th>auctioneerID</th>\n",
       "      <td>3</td>\n",
       "      <td>3</td>\n",
       "      <td>3</td>\n",
       "      <td>3</td>\n",
       "      <td>3</td>\n",
       "      <td>3</td>\n",
       "      <td>3</td>\n",
       "      <td>3</td>\n",
       "      <td>3</td>\n",
       "      <td>3</td>\n",
       "    </tr>\n",
       "    <tr>\n",
       "      <th>YearMade</th>\n",
       "      <td>2004</td>\n",
       "      <td>1996</td>\n",
       "      <td>2001</td>\n",
       "      <td>2001</td>\n",
       "      <td>2007</td>\n",
       "      <td>2004</td>\n",
       "      <td>1993</td>\n",
       "      <td>2001</td>\n",
       "      <td>2008</td>\n",
       "      <td>1000</td>\n",
       "    </tr>\n",
       "    <tr>\n",
       "      <th>MachineHoursCurrentMeter</th>\n",
       "      <td>68</td>\n",
       "      <td>4640</td>\n",
       "      <td>2838</td>\n",
       "      <td>3486</td>\n",
       "      <td>722</td>\n",
       "      <td>508</td>\n",
       "      <td>11540</td>\n",
       "      <td>4883</td>\n",
       "      <td>302</td>\n",
       "      <td>20700</td>\n",
       "    </tr>\n",
       "    <tr>\n",
       "      <th>UsageBand</th>\n",
       "      <td>Low</td>\n",
       "      <td>Low</td>\n",
       "      <td>High</td>\n",
       "      <td>High</td>\n",
       "      <td>Medium</td>\n",
       "      <td>Low</td>\n",
       "      <td>High</td>\n",
       "      <td>High</td>\n",
       "      <td>Low</td>\n",
       "      <td>Medium</td>\n",
       "    </tr>\n",
       "    <tr>\n",
       "      <th>saledate</th>\n",
       "      <td>2006-11-16 00:00:00</td>\n",
       "      <td>2004-03-26 00:00:00</td>\n",
       "      <td>2004-02-26 00:00:00</td>\n",
       "      <td>2011-05-19 00:00:00</td>\n",
       "      <td>2009-07-23 00:00:00</td>\n",
       "      <td>2008-12-18 00:00:00</td>\n",
       "      <td>2004-08-26 00:00:00</td>\n",
       "      <td>2005-11-17 00:00:00</td>\n",
       "      <td>2009-08-27 00:00:00</td>\n",
       "      <td>2007-08-09 00:00:00</td>\n",
       "    </tr>\n",
       "    <tr>\n",
       "      <th>fiModelDesc</th>\n",
       "      <td>521D</td>\n",
       "      <td>950FII</td>\n",
       "      <td>226</td>\n",
       "      <td>PC120-6E</td>\n",
       "      <td>S175</td>\n",
       "      <td>310G</td>\n",
       "      <td>790ELC</td>\n",
       "      <td>416D</td>\n",
       "      <td>430HAG</td>\n",
       "      <td>988B</td>\n",
       "    </tr>\n",
       "    <tr>\n",
       "      <th>fiBaseModel</th>\n",
       "      <td>521</td>\n",
       "      <td>950</td>\n",
       "      <td>226</td>\n",
       "      <td>PC120</td>\n",
       "      <td>S175</td>\n",
       "      <td>310</td>\n",
       "      <td>790</td>\n",
       "      <td>416</td>\n",
       "      <td>430</td>\n",
       "      <td>988</td>\n",
       "    </tr>\n",
       "    <tr>\n",
       "      <th>fiSecondaryDesc</th>\n",
       "      <td>D</td>\n",
       "      <td>F</td>\n",
       "      <td>NaN</td>\n",
       "      <td>NaN</td>\n",
       "      <td>NaN</td>\n",
       "      <td>G</td>\n",
       "      <td>E</td>\n",
       "      <td>D</td>\n",
       "      <td>HAG</td>\n",
       "      <td>B</td>\n",
       "    </tr>\n",
       "    <tr>\n",
       "      <th>fiModelSeries</th>\n",
       "      <td>NaN</td>\n",
       "      <td>II</td>\n",
       "      <td>NaN</td>\n",
       "      <td>-6E</td>\n",
       "      <td>NaN</td>\n",
       "      <td>NaN</td>\n",
       "      <td>NaN</td>\n",
       "      <td>NaN</td>\n",
       "      <td>NaN</td>\n",
       "      <td>NaN</td>\n",
       "    </tr>\n",
       "    <tr>\n",
       "      <th>fiModelDescriptor</th>\n",
       "      <td>NaN</td>\n",
       "      <td>NaN</td>\n",
       "      <td>NaN</td>\n",
       "      <td>NaN</td>\n",
       "      <td>NaN</td>\n",
       "      <td>NaN</td>\n",
       "      <td>LC</td>\n",
       "      <td>NaN</td>\n",
       "      <td>NaN</td>\n",
       "      <td>NaN</td>\n",
       "    </tr>\n",
       "    <tr>\n",
       "      <th>ProductSize</th>\n",
       "      <td>NaN</td>\n",
       "      <td>Medium</td>\n",
       "      <td>NaN</td>\n",
       "      <td>Small</td>\n",
       "      <td>NaN</td>\n",
       "      <td>NaN</td>\n",
       "      <td>Large / Medium</td>\n",
       "      <td>NaN</td>\n",
       "      <td>Mini</td>\n",
       "      <td>Large</td>\n",
       "    </tr>\n",
       "    <tr>\n",
       "      <th>fiProductClassDesc</th>\n",
       "      <td>Wheel Loader - 110.0 to 120.0 Horsepower</td>\n",
       "      <td>Wheel Loader - 150.0 to 175.0 Horsepower</td>\n",
       "      <td>Skid Steer Loader - 1351.0 to 1601.0 Lb Operat...</td>\n",
       "      <td>Hydraulic Excavator, Track - 12.0 to 14.0 Metr...</td>\n",
       "      <td>Skid Steer Loader - 1601.0 to 1751.0 Lb Operat...</td>\n",
       "      <td>Backhoe Loader - 14.0 to 15.0 Ft Standard Digg...</td>\n",
       "      <td>Hydraulic Excavator, Track - 21.0 to 24.0 Metr...</td>\n",
       "      <td>Backhoe Loader - 14.0 to 15.0 Ft Standard Digg...</td>\n",
       "      <td>Hydraulic Excavator, Track - 3.0 to 4.0 Metric...</td>\n",
       "      <td>Wheel Loader - 350.0 to 500.0 Horsepower</td>\n",
       "    </tr>\n",
       "    <tr>\n",
       "      <th>state</th>\n",
       "      <td>Alabama</td>\n",
       "      <td>North Carolina</td>\n",
       "      <td>New York</td>\n",
       "      <td>Texas</td>\n",
       "      <td>New York</td>\n",
       "      <td>Arizona</td>\n",
       "      <td>Florida</td>\n",
       "      <td>Illinois</td>\n",
       "      <td>Texas</td>\n",
       "      <td>Florida</td>\n",
       "    </tr>\n",
       "    <tr>\n",
       "      <th>ProductGroup</th>\n",
       "      <td>WL</td>\n",
       "      <td>WL</td>\n",
       "      <td>SSL</td>\n",
       "      <td>TEX</td>\n",
       "      <td>SSL</td>\n",
       "      <td>BL</td>\n",
       "      <td>TEX</td>\n",
       "      <td>BL</td>\n",
       "      <td>TEX</td>\n",
       "      <td>WL</td>\n",
       "    </tr>\n",
       "    <tr>\n",
       "      <th>ProductGroupDesc</th>\n",
       "      <td>Wheel Loader</td>\n",
       "      <td>Wheel Loader</td>\n",
       "      <td>Skid Steer Loaders</td>\n",
       "      <td>Track Excavators</td>\n",
       "      <td>Skid Steer Loaders</td>\n",
       "      <td>Backhoe Loaders</td>\n",
       "      <td>Track Excavators</td>\n",
       "      <td>Backhoe Loaders</td>\n",
       "      <td>Track Excavators</td>\n",
       "      <td>Wheel Loader</td>\n",
       "    </tr>\n",
       "    <tr>\n",
       "      <th>Drive_System</th>\n",
       "      <td>NaN</td>\n",
       "      <td>NaN</td>\n",
       "      <td>NaN</td>\n",
       "      <td>NaN</td>\n",
       "      <td>NaN</td>\n",
       "      <td>Four Wheel Drive</td>\n",
       "      <td>NaN</td>\n",
       "      <td>Four Wheel Drive</td>\n",
       "      <td>NaN</td>\n",
       "      <td>NaN</td>\n",
       "    </tr>\n",
       "    <tr>\n",
       "      <th>Enclosure</th>\n",
       "      <td>EROPS w AC</td>\n",
       "      <td>EROPS w AC</td>\n",
       "      <td>OROPS</td>\n",
       "      <td>EROPS w AC</td>\n",
       "      <td>EROPS</td>\n",
       "      <td>OROPS</td>\n",
       "      <td>EROPS</td>\n",
       "      <td>OROPS</td>\n",
       "      <td>EROPS</td>\n",
       "      <td>EROPS w AC</td>\n",
       "    </tr>\n",
       "    <tr>\n",
       "      <th>Forks</th>\n",
       "      <td>None or Unspecified</td>\n",
       "      <td>None or Unspecified</td>\n",
       "      <td>None or Unspecified</td>\n",
       "      <td>NaN</td>\n",
       "      <td>None or Unspecified</td>\n",
       "      <td>None or Unspecified</td>\n",
       "      <td>NaN</td>\n",
       "      <td>None or Unspecified</td>\n",
       "      <td>NaN</td>\n",
       "      <td>None or Unspecified</td>\n",
       "    </tr>\n",
       "    <tr>\n",
       "      <th>Pad_Type</th>\n",
       "      <td>NaN</td>\n",
       "      <td>NaN</td>\n",
       "      <td>NaN</td>\n",
       "      <td>NaN</td>\n",
       "      <td>NaN</td>\n",
       "      <td>None or Unspecified</td>\n",
       "      <td>NaN</td>\n",
       "      <td>Reversible</td>\n",
       "      <td>NaN</td>\n",
       "      <td>NaN</td>\n",
       "    </tr>\n",
       "    <tr>\n",
       "      <th>Ride_Control</th>\n",
       "      <td>None or Unspecified</td>\n",
       "      <td>None or Unspecified</td>\n",
       "      <td>NaN</td>\n",
       "      <td>NaN</td>\n",
       "      <td>NaN</td>\n",
       "      <td>No</td>\n",
       "      <td>NaN</td>\n",
       "      <td>No</td>\n",
       "      <td>NaN</td>\n",
       "      <td>None or Unspecified</td>\n",
       "    </tr>\n",
       "    <tr>\n",
       "      <th>Stick</th>\n",
       "      <td>NaN</td>\n",
       "      <td>NaN</td>\n",
       "      <td>NaN</td>\n",
       "      <td>NaN</td>\n",
       "      <td>NaN</td>\n",
       "      <td>Extended</td>\n",
       "      <td>NaN</td>\n",
       "      <td>Standard</td>\n",
       "      <td>NaN</td>\n",
       "      <td>NaN</td>\n",
       "    </tr>\n",
       "    <tr>\n",
       "      <th>Transmission</th>\n",
       "      <td>NaN</td>\n",
       "      <td>NaN</td>\n",
       "      <td>NaN</td>\n",
       "      <td>NaN</td>\n",
       "      <td>NaN</td>\n",
       "      <td>Powershuttle</td>\n",
       "      <td>NaN</td>\n",
       "      <td>Standard</td>\n",
       "      <td>NaN</td>\n",
       "      <td>NaN</td>\n",
       "    </tr>\n",
       "    <tr>\n",
       "      <th>Turbocharged</th>\n",
       "      <td>NaN</td>\n",
       "      <td>NaN</td>\n",
       "      <td>NaN</td>\n",
       "      <td>NaN</td>\n",
       "      <td>NaN</td>\n",
       "      <td>None or Unspecified</td>\n",
       "      <td>NaN</td>\n",
       "      <td>Yes</td>\n",
       "      <td>NaN</td>\n",
       "      <td>NaN</td>\n",
       "    </tr>\n",
       "    <tr>\n",
       "      <th>Blade_Extension</th>\n",
       "      <td>NaN</td>\n",
       "      <td>NaN</td>\n",
       "      <td>NaN</td>\n",
       "      <td>NaN</td>\n",
       "      <td>NaN</td>\n",
       "      <td>NaN</td>\n",
       "      <td>NaN</td>\n",
       "      <td>NaN</td>\n",
       "      <td>NaN</td>\n",
       "      <td>NaN</td>\n",
       "    </tr>\n",
       "    <tr>\n",
       "      <th>Blade_Width</th>\n",
       "      <td>NaN</td>\n",
       "      <td>NaN</td>\n",
       "      <td>NaN</td>\n",
       "      <td>NaN</td>\n",
       "      <td>NaN</td>\n",
       "      <td>NaN</td>\n",
       "      <td>NaN</td>\n",
       "      <td>NaN</td>\n",
       "      <td>NaN</td>\n",
       "      <td>NaN</td>\n",
       "    </tr>\n",
       "    <tr>\n",
       "      <th>Enclosure_Type</th>\n",
       "      <td>NaN</td>\n",
       "      <td>NaN</td>\n",
       "      <td>NaN</td>\n",
       "      <td>NaN</td>\n",
       "      <td>NaN</td>\n",
       "      <td>NaN</td>\n",
       "      <td>NaN</td>\n",
       "      <td>NaN</td>\n",
       "      <td>NaN</td>\n",
       "      <td>NaN</td>\n",
       "    </tr>\n",
       "    <tr>\n",
       "      <th>Engine_Horsepower</th>\n",
       "      <td>NaN</td>\n",
       "      <td>NaN</td>\n",
       "      <td>NaN</td>\n",
       "      <td>NaN</td>\n",
       "      <td>NaN</td>\n",
       "      <td>NaN</td>\n",
       "      <td>NaN</td>\n",
       "      <td>NaN</td>\n",
       "      <td>NaN</td>\n",
       "      <td>NaN</td>\n",
       "    </tr>\n",
       "    <tr>\n",
       "      <th>Hydraulics</th>\n",
       "      <td>2 Valve</td>\n",
       "      <td>2 Valve</td>\n",
       "      <td>Auxiliary</td>\n",
       "      <td>2 Valve</td>\n",
       "      <td>Auxiliary</td>\n",
       "      <td>NaN</td>\n",
       "      <td>Standard</td>\n",
       "      <td>NaN</td>\n",
       "      <td>Auxiliary</td>\n",
       "      <td>2 Valve</td>\n",
       "    </tr>\n",
       "    <tr>\n",
       "      <th>Pushblock</th>\n",
       "      <td>NaN</td>\n",
       "      <td>NaN</td>\n",
       "      <td>NaN</td>\n",
       "      <td>NaN</td>\n",
       "      <td>NaN</td>\n",
       "      <td>NaN</td>\n",
       "      <td>NaN</td>\n",
       "      <td>NaN</td>\n",
       "      <td>NaN</td>\n",
       "      <td>NaN</td>\n",
       "    </tr>\n",
       "    <tr>\n",
       "      <th>Ripper</th>\n",
       "      <td>NaN</td>\n",
       "      <td>NaN</td>\n",
       "      <td>NaN</td>\n",
       "      <td>NaN</td>\n",
       "      <td>NaN</td>\n",
       "      <td>NaN</td>\n",
       "      <td>NaN</td>\n",
       "      <td>NaN</td>\n",
       "      <td>NaN</td>\n",
       "      <td>NaN</td>\n",
       "    </tr>\n",
       "    <tr>\n",
       "      <th>Scarifier</th>\n",
       "      <td>NaN</td>\n",
       "      <td>NaN</td>\n",
       "      <td>NaN</td>\n",
       "      <td>NaN</td>\n",
       "      <td>NaN</td>\n",
       "      <td>NaN</td>\n",
       "      <td>NaN</td>\n",
       "      <td>NaN</td>\n",
       "      <td>NaN</td>\n",
       "      <td>NaN</td>\n",
       "    </tr>\n",
       "    <tr>\n",
       "      <th>Tip_Control</th>\n",
       "      <td>NaN</td>\n",
       "      <td>NaN</td>\n",
       "      <td>NaN</td>\n",
       "      <td>NaN</td>\n",
       "      <td>NaN</td>\n",
       "      <td>NaN</td>\n",
       "      <td>NaN</td>\n",
       "      <td>NaN</td>\n",
       "      <td>NaN</td>\n",
       "      <td>NaN</td>\n",
       "    </tr>\n",
       "    <tr>\n",
       "      <th>Tire_Size</th>\n",
       "      <td>None or Unspecified</td>\n",
       "      <td>23.5</td>\n",
       "      <td>NaN</td>\n",
       "      <td>NaN</td>\n",
       "      <td>NaN</td>\n",
       "      <td>NaN</td>\n",
       "      <td>NaN</td>\n",
       "      <td>NaN</td>\n",
       "      <td>NaN</td>\n",
       "      <td>None or Unspecified</td>\n",
       "    </tr>\n",
       "    <tr>\n",
       "      <th>Coupler</th>\n",
       "      <td>None or Unspecified</td>\n",
       "      <td>None or Unspecified</td>\n",
       "      <td>None or Unspecified</td>\n",
       "      <td>None or Unspecified</td>\n",
       "      <td>None or Unspecified</td>\n",
       "      <td>NaN</td>\n",
       "      <td>None or Unspecified</td>\n",
       "      <td>NaN</td>\n",
       "      <td>Manual</td>\n",
       "      <td>None or Unspecified</td>\n",
       "    </tr>\n",
       "    <tr>\n",
       "      <th>Coupler_System</th>\n",
       "      <td>NaN</td>\n",
       "      <td>NaN</td>\n",
       "      <td>None or Unspecified</td>\n",
       "      <td>NaN</td>\n",
       "      <td>None or Unspecified</td>\n",
       "      <td>NaN</td>\n",
       "      <td>NaN</td>\n",
       "      <td>NaN</td>\n",
       "      <td>NaN</td>\n",
       "      <td>NaN</td>\n",
       "    </tr>\n",
       "    <tr>\n",
       "      <th>Grouser_Tracks</th>\n",
       "      <td>NaN</td>\n",
       "      <td>NaN</td>\n",
       "      <td>None or Unspecified</td>\n",
       "      <td>NaN</td>\n",
       "      <td>None or Unspecified</td>\n",
       "      <td>NaN</td>\n",
       "      <td>NaN</td>\n",
       "      <td>NaN</td>\n",
       "      <td>NaN</td>\n",
       "      <td>NaN</td>\n",
       "    </tr>\n",
       "    <tr>\n",
       "      <th>Hydraulics_Flow</th>\n",
       "      <td>NaN</td>\n",
       "      <td>NaN</td>\n",
       "      <td>Standard</td>\n",
       "      <td>NaN</td>\n",
       "      <td>Standard</td>\n",
       "      <td>NaN</td>\n",
       "      <td>NaN</td>\n",
       "      <td>NaN</td>\n",
       "      <td>NaN</td>\n",
       "      <td>NaN</td>\n",
       "    </tr>\n",
       "    <tr>\n",
       "      <th>Track_Type</th>\n",
       "      <td>NaN</td>\n",
       "      <td>NaN</td>\n",
       "      <td>NaN</td>\n",
       "      <td>NaN</td>\n",
       "      <td>NaN</td>\n",
       "      <td>NaN</td>\n",
       "      <td>Steel</td>\n",
       "      <td>NaN</td>\n",
       "      <td>Rubber</td>\n",
       "      <td>NaN</td>\n",
       "    </tr>\n",
       "    <tr>\n",
       "      <th>Undercarriage_Pad_Width</th>\n",
       "      <td>NaN</td>\n",
       "      <td>NaN</td>\n",
       "      <td>NaN</td>\n",
       "      <td>NaN</td>\n",
       "      <td>NaN</td>\n",
       "      <td>NaN</td>\n",
       "      <td>None or Unspecified</td>\n",
       "      <td>NaN</td>\n",
       "      <td>None or Unspecified</td>\n",
       "      <td>NaN</td>\n",
       "    </tr>\n",
       "    <tr>\n",
       "      <th>Stick_Length</th>\n",
       "      <td>NaN</td>\n",
       "      <td>NaN</td>\n",
       "      <td>NaN</td>\n",
       "      <td>NaN</td>\n",
       "      <td>NaN</td>\n",
       "      <td>NaN</td>\n",
       "      <td>None or Unspecified</td>\n",
       "      <td>NaN</td>\n",
       "      <td>None or Unspecified</td>\n",
       "      <td>NaN</td>\n",
       "    </tr>\n",
       "    <tr>\n",
       "      <th>Thumb</th>\n",
       "      <td>NaN</td>\n",
       "      <td>NaN</td>\n",
       "      <td>NaN</td>\n",
       "      <td>NaN</td>\n",
       "      <td>NaN</td>\n",
       "      <td>NaN</td>\n",
       "      <td>None or Unspecified</td>\n",
       "      <td>NaN</td>\n",
       "      <td>None or Unspecified</td>\n",
       "      <td>NaN</td>\n",
       "    </tr>\n",
       "    <tr>\n",
       "      <th>Pattern_Changer</th>\n",
       "      <td>NaN</td>\n",
       "      <td>NaN</td>\n",
       "      <td>NaN</td>\n",
       "      <td>NaN</td>\n",
       "      <td>NaN</td>\n",
       "      <td>NaN</td>\n",
       "      <td>None or Unspecified</td>\n",
       "      <td>NaN</td>\n",
       "      <td>None or Unspecified</td>\n",
       "      <td>NaN</td>\n",
       "    </tr>\n",
       "    <tr>\n",
       "      <th>Grouser_Type</th>\n",
       "      <td>NaN</td>\n",
       "      <td>NaN</td>\n",
       "      <td>NaN</td>\n",
       "      <td>NaN</td>\n",
       "      <td>NaN</td>\n",
       "      <td>NaN</td>\n",
       "      <td>Double</td>\n",
       "      <td>NaN</td>\n",
       "      <td>Double</td>\n",
       "      <td>NaN</td>\n",
       "    </tr>\n",
       "    <tr>\n",
       "      <th>Backhoe_Mounting</th>\n",
       "      <td>NaN</td>\n",
       "      <td>NaN</td>\n",
       "      <td>NaN</td>\n",
       "      <td>NaN</td>\n",
       "      <td>NaN</td>\n",
       "      <td>NaN</td>\n",
       "      <td>NaN</td>\n",
       "      <td>NaN</td>\n",
       "      <td>NaN</td>\n",
       "      <td>NaN</td>\n",
       "    </tr>\n",
       "    <tr>\n",
       "      <th>Blade_Type</th>\n",
       "      <td>NaN</td>\n",
       "      <td>NaN</td>\n",
       "      <td>NaN</td>\n",
       "      <td>NaN</td>\n",
       "      <td>NaN</td>\n",
       "      <td>NaN</td>\n",
       "      <td>NaN</td>\n",
       "      <td>NaN</td>\n",
       "      <td>NaN</td>\n",
       "      <td>NaN</td>\n",
       "    </tr>\n",
       "    <tr>\n",
       "      <th>Travel_Controls</th>\n",
       "      <td>NaN</td>\n",
       "      <td>NaN</td>\n",
       "      <td>NaN</td>\n",
       "      <td>NaN</td>\n",
       "      <td>NaN</td>\n",
       "      <td>NaN</td>\n",
       "      <td>NaN</td>\n",
       "      <td>NaN</td>\n",
       "      <td>NaN</td>\n",
       "      <td>NaN</td>\n",
       "    </tr>\n",
       "    <tr>\n",
       "      <th>Differential_Type</th>\n",
       "      <td>Standard</td>\n",
       "      <td>Standard</td>\n",
       "      <td>NaN</td>\n",
       "      <td>NaN</td>\n",
       "      <td>NaN</td>\n",
       "      <td>NaN</td>\n",
       "      <td>NaN</td>\n",
       "      <td>NaN</td>\n",
       "      <td>NaN</td>\n",
       "      <td>Standard</td>\n",
       "    </tr>\n",
       "    <tr>\n",
       "      <th>Steering_Controls</th>\n",
       "      <td>Conventional</td>\n",
       "      <td>Conventional</td>\n",
       "      <td>NaN</td>\n",
       "      <td>NaN</td>\n",
       "      <td>NaN</td>\n",
       "      <td>NaN</td>\n",
       "      <td>NaN</td>\n",
       "      <td>NaN</td>\n",
       "      <td>NaN</td>\n",
       "      <td>Conventional</td>\n",
       "    </tr>\n",
       "  </tbody>\n",
       "</table>\n",
       "</div>"
      ],
      "text/plain": [
       "                                                                 0  \\\n",
       "SalesID                                                    1139246   \n",
       "SalePrice                                                    66000   \n",
       "MachineID                                                   999089   \n",
       "ModelID                                                       3157   \n",
       "datasource                                                     121   \n",
       "auctioneerID                                                     3   \n",
       "YearMade                                                      2004   \n",
       "MachineHoursCurrentMeter                                        68   \n",
       "UsageBand                                                      Low   \n",
       "saledate                                       2006-11-16 00:00:00   \n",
       "fiModelDesc                                                   521D   \n",
       "fiBaseModel                                                    521   \n",
       "fiSecondaryDesc                                                  D   \n",
       "fiModelSeries                                                  NaN   \n",
       "fiModelDescriptor                                              NaN   \n",
       "ProductSize                                                    NaN   \n",
       "fiProductClassDesc        Wheel Loader - 110.0 to 120.0 Horsepower   \n",
       "state                                                      Alabama   \n",
       "ProductGroup                                                    WL   \n",
       "ProductGroupDesc                                      Wheel Loader   \n",
       "Drive_System                                                   NaN   \n",
       "Enclosure                                               EROPS w AC   \n",
       "Forks                                          None or Unspecified   \n",
       "Pad_Type                                                       NaN   \n",
       "Ride_Control                                   None or Unspecified   \n",
       "Stick                                                          NaN   \n",
       "Transmission                                                   NaN   \n",
       "Turbocharged                                                   NaN   \n",
       "Blade_Extension                                                NaN   \n",
       "Blade_Width                                                    NaN   \n",
       "Enclosure_Type                                                 NaN   \n",
       "Engine_Horsepower                                              NaN   \n",
       "Hydraulics                                                 2 Valve   \n",
       "Pushblock                                                      NaN   \n",
       "Ripper                                                         NaN   \n",
       "Scarifier                                                      NaN   \n",
       "Tip_Control                                                    NaN   \n",
       "Tire_Size                                      None or Unspecified   \n",
       "Coupler                                        None or Unspecified   \n",
       "Coupler_System                                                 NaN   \n",
       "Grouser_Tracks                                                 NaN   \n",
       "Hydraulics_Flow                                                NaN   \n",
       "Track_Type                                                     NaN   \n",
       "Undercarriage_Pad_Width                                        NaN   \n",
       "Stick_Length                                                   NaN   \n",
       "Thumb                                                          NaN   \n",
       "Pattern_Changer                                                NaN   \n",
       "Grouser_Type                                                   NaN   \n",
       "Backhoe_Mounting                                               NaN   \n",
       "Blade_Type                                                     NaN   \n",
       "Travel_Controls                                                NaN   \n",
       "Differential_Type                                         Standard   \n",
       "Steering_Controls                                     Conventional   \n",
       "\n",
       "                                                                 1  \\\n",
       "SalesID                                                    1139248   \n",
       "SalePrice                                                    57000   \n",
       "MachineID                                                   117657   \n",
       "ModelID                                                         77   \n",
       "datasource                                                     121   \n",
       "auctioneerID                                                     3   \n",
       "YearMade                                                      1996   \n",
       "MachineHoursCurrentMeter                                      4640   \n",
       "UsageBand                                                      Low   \n",
       "saledate                                       2004-03-26 00:00:00   \n",
       "fiModelDesc                                                 950FII   \n",
       "fiBaseModel                                                    950   \n",
       "fiSecondaryDesc                                                  F   \n",
       "fiModelSeries                                                   II   \n",
       "fiModelDescriptor                                              NaN   \n",
       "ProductSize                                                 Medium   \n",
       "fiProductClassDesc        Wheel Loader - 150.0 to 175.0 Horsepower   \n",
       "state                                               North Carolina   \n",
       "ProductGroup                                                    WL   \n",
       "ProductGroupDesc                                      Wheel Loader   \n",
       "Drive_System                                                   NaN   \n",
       "Enclosure                                               EROPS w AC   \n",
       "Forks                                          None or Unspecified   \n",
       "Pad_Type                                                       NaN   \n",
       "Ride_Control                                   None or Unspecified   \n",
       "Stick                                                          NaN   \n",
       "Transmission                                                   NaN   \n",
       "Turbocharged                                                   NaN   \n",
       "Blade_Extension                                                NaN   \n",
       "Blade_Width                                                    NaN   \n",
       "Enclosure_Type                                                 NaN   \n",
       "Engine_Horsepower                                              NaN   \n",
       "Hydraulics                                                 2 Valve   \n",
       "Pushblock                                                      NaN   \n",
       "Ripper                                                         NaN   \n",
       "Scarifier                                                      NaN   \n",
       "Tip_Control                                                    NaN   \n",
       "Tire_Size                                                     23.5   \n",
       "Coupler                                        None or Unspecified   \n",
       "Coupler_System                                                 NaN   \n",
       "Grouser_Tracks                                                 NaN   \n",
       "Hydraulics_Flow                                                NaN   \n",
       "Track_Type                                                     NaN   \n",
       "Undercarriage_Pad_Width                                        NaN   \n",
       "Stick_Length                                                   NaN   \n",
       "Thumb                                                          NaN   \n",
       "Pattern_Changer                                                NaN   \n",
       "Grouser_Type                                                   NaN   \n",
       "Backhoe_Mounting                                               NaN   \n",
       "Blade_Type                                                     NaN   \n",
       "Travel_Controls                                                NaN   \n",
       "Differential_Type                                         Standard   \n",
       "Steering_Controls                                     Conventional   \n",
       "\n",
       "                                                                          2  \\\n",
       "SalesID                                                             1139249   \n",
       "SalePrice                                                             10000   \n",
       "MachineID                                                            434808   \n",
       "ModelID                                                                7009   \n",
       "datasource                                                              121   \n",
       "auctioneerID                                                              3   \n",
       "YearMade                                                               2001   \n",
       "MachineHoursCurrentMeter                                               2838   \n",
       "UsageBand                                                              High   \n",
       "saledate                                                2004-02-26 00:00:00   \n",
       "fiModelDesc                                                             226   \n",
       "fiBaseModel                                                             226   \n",
       "fiSecondaryDesc                                                         NaN   \n",
       "fiModelSeries                                                           NaN   \n",
       "fiModelDescriptor                                                       NaN   \n",
       "ProductSize                                                             NaN   \n",
       "fiProductClassDesc        Skid Steer Loader - 1351.0 to 1601.0 Lb Operat...   \n",
       "state                                                              New York   \n",
       "ProductGroup                                                            SSL   \n",
       "ProductGroupDesc                                         Skid Steer Loaders   \n",
       "Drive_System                                                            NaN   \n",
       "Enclosure                                                             OROPS   \n",
       "Forks                                                   None or Unspecified   \n",
       "Pad_Type                                                                NaN   \n",
       "Ride_Control                                                            NaN   \n",
       "Stick                                                                   NaN   \n",
       "Transmission                                                            NaN   \n",
       "Turbocharged                                                            NaN   \n",
       "Blade_Extension                                                         NaN   \n",
       "Blade_Width                                                             NaN   \n",
       "Enclosure_Type                                                          NaN   \n",
       "Engine_Horsepower                                                       NaN   \n",
       "Hydraulics                                                        Auxiliary   \n",
       "Pushblock                                                               NaN   \n",
       "Ripper                                                                  NaN   \n",
       "Scarifier                                                               NaN   \n",
       "Tip_Control                                                             NaN   \n",
       "Tire_Size                                                               NaN   \n",
       "Coupler                                                 None or Unspecified   \n",
       "Coupler_System                                          None or Unspecified   \n",
       "Grouser_Tracks                                          None or Unspecified   \n",
       "Hydraulics_Flow                                                    Standard   \n",
       "Track_Type                                                              NaN   \n",
       "Undercarriage_Pad_Width                                                 NaN   \n",
       "Stick_Length                                                            NaN   \n",
       "Thumb                                                                   NaN   \n",
       "Pattern_Changer                                                         NaN   \n",
       "Grouser_Type                                                            NaN   \n",
       "Backhoe_Mounting                                                        NaN   \n",
       "Blade_Type                                                              NaN   \n",
       "Travel_Controls                                                         NaN   \n",
       "Differential_Type                                                       NaN   \n",
       "Steering_Controls                                                       NaN   \n",
       "\n",
       "                                                                          3  \\\n",
       "SalesID                                                             1139251   \n",
       "SalePrice                                                             38500   \n",
       "MachineID                                                           1026470   \n",
       "ModelID                                                                 332   \n",
       "datasource                                                              121   \n",
       "auctioneerID                                                              3   \n",
       "YearMade                                                               2001   \n",
       "MachineHoursCurrentMeter                                               3486   \n",
       "UsageBand                                                              High   \n",
       "saledate                                                2011-05-19 00:00:00   \n",
       "fiModelDesc                                                        PC120-6E   \n",
       "fiBaseModel                                                           PC120   \n",
       "fiSecondaryDesc                                                         NaN   \n",
       "fiModelSeries                                                           -6E   \n",
       "fiModelDescriptor                                                       NaN   \n",
       "ProductSize                                                           Small   \n",
       "fiProductClassDesc        Hydraulic Excavator, Track - 12.0 to 14.0 Metr...   \n",
       "state                                                                 Texas   \n",
       "ProductGroup                                                            TEX   \n",
       "ProductGroupDesc                                           Track Excavators   \n",
       "Drive_System                                                            NaN   \n",
       "Enclosure                                                        EROPS w AC   \n",
       "Forks                                                                   NaN   \n",
       "Pad_Type                                                                NaN   \n",
       "Ride_Control                                                            NaN   \n",
       "Stick                                                                   NaN   \n",
       "Transmission                                                            NaN   \n",
       "Turbocharged                                                            NaN   \n",
       "Blade_Extension                                                         NaN   \n",
       "Blade_Width                                                             NaN   \n",
       "Enclosure_Type                                                          NaN   \n",
       "Engine_Horsepower                                                       NaN   \n",
       "Hydraulics                                                          2 Valve   \n",
       "Pushblock                                                               NaN   \n",
       "Ripper                                                                  NaN   \n",
       "Scarifier                                                               NaN   \n",
       "Tip_Control                                                             NaN   \n",
       "Tire_Size                                                               NaN   \n",
       "Coupler                                                 None or Unspecified   \n",
       "Coupler_System                                                          NaN   \n",
       "Grouser_Tracks                                                          NaN   \n",
       "Hydraulics_Flow                                                         NaN   \n",
       "Track_Type                                                              NaN   \n",
       "Undercarriage_Pad_Width                                                 NaN   \n",
       "Stick_Length                                                            NaN   \n",
       "Thumb                                                                   NaN   \n",
       "Pattern_Changer                                                         NaN   \n",
       "Grouser_Type                                                            NaN   \n",
       "Backhoe_Mounting                                                        NaN   \n",
       "Blade_Type                                                              NaN   \n",
       "Travel_Controls                                                         NaN   \n",
       "Differential_Type                                                       NaN   \n",
       "Steering_Controls                                                       NaN   \n",
       "\n",
       "                                                                          4  \\\n",
       "SalesID                                                             1139253   \n",
       "SalePrice                                                             11000   \n",
       "MachineID                                                           1057373   \n",
       "ModelID                                                               17311   \n",
       "datasource                                                              121   \n",
       "auctioneerID                                                              3   \n",
       "YearMade                                                               2007   \n",
       "MachineHoursCurrentMeter                                                722   \n",
       "UsageBand                                                            Medium   \n",
       "saledate                                                2009-07-23 00:00:00   \n",
       "fiModelDesc                                                            S175   \n",
       "fiBaseModel                                                            S175   \n",
       "fiSecondaryDesc                                                         NaN   \n",
       "fiModelSeries                                                           NaN   \n",
       "fiModelDescriptor                                                       NaN   \n",
       "ProductSize                                                             NaN   \n",
       "fiProductClassDesc        Skid Steer Loader - 1601.0 to 1751.0 Lb Operat...   \n",
       "state                                                              New York   \n",
       "ProductGroup                                                            SSL   \n",
       "ProductGroupDesc                                         Skid Steer Loaders   \n",
       "Drive_System                                                            NaN   \n",
       "Enclosure                                                             EROPS   \n",
       "Forks                                                   None or Unspecified   \n",
       "Pad_Type                                                                NaN   \n",
       "Ride_Control                                                            NaN   \n",
       "Stick                                                                   NaN   \n",
       "Transmission                                                            NaN   \n",
       "Turbocharged                                                            NaN   \n",
       "Blade_Extension                                                         NaN   \n",
       "Blade_Width                                                             NaN   \n",
       "Enclosure_Type                                                          NaN   \n",
       "Engine_Horsepower                                                       NaN   \n",
       "Hydraulics                                                        Auxiliary   \n",
       "Pushblock                                                               NaN   \n",
       "Ripper                                                                  NaN   \n",
       "Scarifier                                                               NaN   \n",
       "Tip_Control                                                             NaN   \n",
       "Tire_Size                                                               NaN   \n",
       "Coupler                                                 None or Unspecified   \n",
       "Coupler_System                                          None or Unspecified   \n",
       "Grouser_Tracks                                          None or Unspecified   \n",
       "Hydraulics_Flow                                                    Standard   \n",
       "Track_Type                                                              NaN   \n",
       "Undercarriage_Pad_Width                                                 NaN   \n",
       "Stick_Length                                                            NaN   \n",
       "Thumb                                                                   NaN   \n",
       "Pattern_Changer                                                         NaN   \n",
       "Grouser_Type                                                            NaN   \n",
       "Backhoe_Mounting                                                        NaN   \n",
       "Blade_Type                                                              NaN   \n",
       "Travel_Controls                                                         NaN   \n",
       "Differential_Type                                                       NaN   \n",
       "Steering_Controls                                                       NaN   \n",
       "\n",
       "                                                                          5  \\\n",
       "SalesID                                                             1139255   \n",
       "SalePrice                                                             26500   \n",
       "MachineID                                                           1001274   \n",
       "ModelID                                                                4605   \n",
       "datasource                                                              121   \n",
       "auctioneerID                                                              3   \n",
       "YearMade                                                               2004   \n",
       "MachineHoursCurrentMeter                                                508   \n",
       "UsageBand                                                               Low   \n",
       "saledate                                                2008-12-18 00:00:00   \n",
       "fiModelDesc                                                            310G   \n",
       "fiBaseModel                                                             310   \n",
       "fiSecondaryDesc                                                           G   \n",
       "fiModelSeries                                                           NaN   \n",
       "fiModelDescriptor                                                       NaN   \n",
       "ProductSize                                                             NaN   \n",
       "fiProductClassDesc        Backhoe Loader - 14.0 to 15.0 Ft Standard Digg...   \n",
       "state                                                               Arizona   \n",
       "ProductGroup                                                             BL   \n",
       "ProductGroupDesc                                            Backhoe Loaders   \n",
       "Drive_System                                               Four Wheel Drive   \n",
       "Enclosure                                                             OROPS   \n",
       "Forks                                                   None or Unspecified   \n",
       "Pad_Type                                                None or Unspecified   \n",
       "Ride_Control                                                             No   \n",
       "Stick                                                              Extended   \n",
       "Transmission                                                   Powershuttle   \n",
       "Turbocharged                                            None or Unspecified   \n",
       "Blade_Extension                                                         NaN   \n",
       "Blade_Width                                                             NaN   \n",
       "Enclosure_Type                                                          NaN   \n",
       "Engine_Horsepower                                                       NaN   \n",
       "Hydraulics                                                              NaN   \n",
       "Pushblock                                                               NaN   \n",
       "Ripper                                                                  NaN   \n",
       "Scarifier                                                               NaN   \n",
       "Tip_Control                                                             NaN   \n",
       "Tire_Size                                                               NaN   \n",
       "Coupler                                                                 NaN   \n",
       "Coupler_System                                                          NaN   \n",
       "Grouser_Tracks                                                          NaN   \n",
       "Hydraulics_Flow                                                         NaN   \n",
       "Track_Type                                                              NaN   \n",
       "Undercarriage_Pad_Width                                                 NaN   \n",
       "Stick_Length                                                            NaN   \n",
       "Thumb                                                                   NaN   \n",
       "Pattern_Changer                                                         NaN   \n",
       "Grouser_Type                                                            NaN   \n",
       "Backhoe_Mounting                                                        NaN   \n",
       "Blade_Type                                                              NaN   \n",
       "Travel_Controls                                                         NaN   \n",
       "Differential_Type                                                       NaN   \n",
       "Steering_Controls                                                       NaN   \n",
       "\n",
       "                                                                          6  \\\n",
       "SalesID                                                             1139256   \n",
       "SalePrice                                                             21000   \n",
       "MachineID                                                            772701   \n",
       "ModelID                                                                1937   \n",
       "datasource                                                              121   \n",
       "auctioneerID                                                              3   \n",
       "YearMade                                                               1993   \n",
       "MachineHoursCurrentMeter                                              11540   \n",
       "UsageBand                                                              High   \n",
       "saledate                                                2004-08-26 00:00:00   \n",
       "fiModelDesc                                                          790ELC   \n",
       "fiBaseModel                                                             790   \n",
       "fiSecondaryDesc                                                           E   \n",
       "fiModelSeries                                                           NaN   \n",
       "fiModelDescriptor                                                        LC   \n",
       "ProductSize                                                  Large / Medium   \n",
       "fiProductClassDesc        Hydraulic Excavator, Track - 21.0 to 24.0 Metr...   \n",
       "state                                                               Florida   \n",
       "ProductGroup                                                            TEX   \n",
       "ProductGroupDesc                                           Track Excavators   \n",
       "Drive_System                                                            NaN   \n",
       "Enclosure                                                             EROPS   \n",
       "Forks                                                                   NaN   \n",
       "Pad_Type                                                                NaN   \n",
       "Ride_Control                                                            NaN   \n",
       "Stick                                                                   NaN   \n",
       "Transmission                                                            NaN   \n",
       "Turbocharged                                                            NaN   \n",
       "Blade_Extension                                                         NaN   \n",
       "Blade_Width                                                             NaN   \n",
       "Enclosure_Type                                                          NaN   \n",
       "Engine_Horsepower                                                       NaN   \n",
       "Hydraulics                                                         Standard   \n",
       "Pushblock                                                               NaN   \n",
       "Ripper                                                                  NaN   \n",
       "Scarifier                                                               NaN   \n",
       "Tip_Control                                                             NaN   \n",
       "Tire_Size                                                               NaN   \n",
       "Coupler                                                 None or Unspecified   \n",
       "Coupler_System                                                          NaN   \n",
       "Grouser_Tracks                                                          NaN   \n",
       "Hydraulics_Flow                                                         NaN   \n",
       "Track_Type                                                            Steel   \n",
       "Undercarriage_Pad_Width                                 None or Unspecified   \n",
       "Stick_Length                                            None or Unspecified   \n",
       "Thumb                                                   None or Unspecified   \n",
       "Pattern_Changer                                         None or Unspecified   \n",
       "Grouser_Type                                                         Double   \n",
       "Backhoe_Mounting                                                        NaN   \n",
       "Blade_Type                                                              NaN   \n",
       "Travel_Controls                                                         NaN   \n",
       "Differential_Type                                                       NaN   \n",
       "Steering_Controls                                                       NaN   \n",
       "\n",
       "                                                                          7  \\\n",
       "SalesID                                                             1139261   \n",
       "SalePrice                                                             27000   \n",
       "MachineID                                                            902002   \n",
       "ModelID                                                                3539   \n",
       "datasource                                                              121   \n",
       "auctioneerID                                                              3   \n",
       "YearMade                                                               2001   \n",
       "MachineHoursCurrentMeter                                               4883   \n",
       "UsageBand                                                              High   \n",
       "saledate                                                2005-11-17 00:00:00   \n",
       "fiModelDesc                                                            416D   \n",
       "fiBaseModel                                                             416   \n",
       "fiSecondaryDesc                                                           D   \n",
       "fiModelSeries                                                           NaN   \n",
       "fiModelDescriptor                                                       NaN   \n",
       "ProductSize                                                             NaN   \n",
       "fiProductClassDesc        Backhoe Loader - 14.0 to 15.0 Ft Standard Digg...   \n",
       "state                                                              Illinois   \n",
       "ProductGroup                                                             BL   \n",
       "ProductGroupDesc                                            Backhoe Loaders   \n",
       "Drive_System                                               Four Wheel Drive   \n",
       "Enclosure                                                             OROPS   \n",
       "Forks                                                   None or Unspecified   \n",
       "Pad_Type                                                         Reversible   \n",
       "Ride_Control                                                             No   \n",
       "Stick                                                              Standard   \n",
       "Transmission                                                       Standard   \n",
       "Turbocharged                                                            Yes   \n",
       "Blade_Extension                                                         NaN   \n",
       "Blade_Width                                                             NaN   \n",
       "Enclosure_Type                                                          NaN   \n",
       "Engine_Horsepower                                                       NaN   \n",
       "Hydraulics                                                              NaN   \n",
       "Pushblock                                                               NaN   \n",
       "Ripper                                                                  NaN   \n",
       "Scarifier                                                               NaN   \n",
       "Tip_Control                                                             NaN   \n",
       "Tire_Size                                                               NaN   \n",
       "Coupler                                                                 NaN   \n",
       "Coupler_System                                                          NaN   \n",
       "Grouser_Tracks                                                          NaN   \n",
       "Hydraulics_Flow                                                         NaN   \n",
       "Track_Type                                                              NaN   \n",
       "Undercarriage_Pad_Width                                                 NaN   \n",
       "Stick_Length                                                            NaN   \n",
       "Thumb                                                                   NaN   \n",
       "Pattern_Changer                                                         NaN   \n",
       "Grouser_Type                                                            NaN   \n",
       "Backhoe_Mounting                                                        NaN   \n",
       "Blade_Type                                                              NaN   \n",
       "Travel_Controls                                                         NaN   \n",
       "Differential_Type                                                       NaN   \n",
       "Steering_Controls                                                       NaN   \n",
       "\n",
       "                                                                          8  \\\n",
       "SalesID                                                             1139272   \n",
       "SalePrice                                                             21500   \n",
       "MachineID                                                           1036251   \n",
       "ModelID                                                               36003   \n",
       "datasource                                                              121   \n",
       "auctioneerID                                                              3   \n",
       "YearMade                                                               2008   \n",
       "MachineHoursCurrentMeter                                                302   \n",
       "UsageBand                                                               Low   \n",
       "saledate                                                2009-08-27 00:00:00   \n",
       "fiModelDesc                                                          430HAG   \n",
       "fiBaseModel                                                             430   \n",
       "fiSecondaryDesc                                                         HAG   \n",
       "fiModelSeries                                                           NaN   \n",
       "fiModelDescriptor                                                       NaN   \n",
       "ProductSize                                                            Mini   \n",
       "fiProductClassDesc        Hydraulic Excavator, Track - 3.0 to 4.0 Metric...   \n",
       "state                                                                 Texas   \n",
       "ProductGroup                                                            TEX   \n",
       "ProductGroupDesc                                           Track Excavators   \n",
       "Drive_System                                                            NaN   \n",
       "Enclosure                                                             EROPS   \n",
       "Forks                                                                   NaN   \n",
       "Pad_Type                                                                NaN   \n",
       "Ride_Control                                                            NaN   \n",
       "Stick                                                                   NaN   \n",
       "Transmission                                                            NaN   \n",
       "Turbocharged                                                            NaN   \n",
       "Blade_Extension                                                         NaN   \n",
       "Blade_Width                                                             NaN   \n",
       "Enclosure_Type                                                          NaN   \n",
       "Engine_Horsepower                                                       NaN   \n",
       "Hydraulics                                                        Auxiliary   \n",
       "Pushblock                                                               NaN   \n",
       "Ripper                                                                  NaN   \n",
       "Scarifier                                                               NaN   \n",
       "Tip_Control                                                             NaN   \n",
       "Tire_Size                                                               NaN   \n",
       "Coupler                                                              Manual   \n",
       "Coupler_System                                                          NaN   \n",
       "Grouser_Tracks                                                          NaN   \n",
       "Hydraulics_Flow                                                         NaN   \n",
       "Track_Type                                                           Rubber   \n",
       "Undercarriage_Pad_Width                                 None or Unspecified   \n",
       "Stick_Length                                            None or Unspecified   \n",
       "Thumb                                                   None or Unspecified   \n",
       "Pattern_Changer                                         None or Unspecified   \n",
       "Grouser_Type                                                         Double   \n",
       "Backhoe_Mounting                                                        NaN   \n",
       "Blade_Type                                                              NaN   \n",
       "Travel_Controls                                                         NaN   \n",
       "Differential_Type                                                       NaN   \n",
       "Steering_Controls                                                       NaN   \n",
       "\n",
       "                                                                 9  \n",
       "SalesID                                                    1139275  \n",
       "SalePrice                                                    65000  \n",
       "MachineID                                                  1016474  \n",
       "ModelID                                                       3883  \n",
       "datasource                                                     121  \n",
       "auctioneerID                                                     3  \n",
       "YearMade                                                      1000  \n",
       "MachineHoursCurrentMeter                                     20700  \n",
       "UsageBand                                                   Medium  \n",
       "saledate                                       2007-08-09 00:00:00  \n",
       "fiModelDesc                                                   988B  \n",
       "fiBaseModel                                                    988  \n",
       "fiSecondaryDesc                                                  B  \n",
       "fiModelSeries                                                  NaN  \n",
       "fiModelDescriptor                                              NaN  \n",
       "ProductSize                                                  Large  \n",
       "fiProductClassDesc        Wheel Loader - 350.0 to 500.0 Horsepower  \n",
       "state                                                      Florida  \n",
       "ProductGroup                                                    WL  \n",
       "ProductGroupDesc                                      Wheel Loader  \n",
       "Drive_System                                                   NaN  \n",
       "Enclosure                                               EROPS w AC  \n",
       "Forks                                          None or Unspecified  \n",
       "Pad_Type                                                       NaN  \n",
       "Ride_Control                                   None or Unspecified  \n",
       "Stick                                                          NaN  \n",
       "Transmission                                                   NaN  \n",
       "Turbocharged                                                   NaN  \n",
       "Blade_Extension                                                NaN  \n",
       "Blade_Width                                                    NaN  \n",
       "Enclosure_Type                                                 NaN  \n",
       "Engine_Horsepower                                              NaN  \n",
       "Hydraulics                                                 2 Valve  \n",
       "Pushblock                                                      NaN  \n",
       "Ripper                                                         NaN  \n",
       "Scarifier                                                      NaN  \n",
       "Tip_Control                                                    NaN  \n",
       "Tire_Size                                      None or Unspecified  \n",
       "Coupler                                        None or Unspecified  \n",
       "Coupler_System                                                 NaN  \n",
       "Grouser_Tracks                                                 NaN  \n",
       "Hydraulics_Flow                                                NaN  \n",
       "Track_Type                                                     NaN  \n",
       "Undercarriage_Pad_Width                                        NaN  \n",
       "Stick_Length                                                   NaN  \n",
       "Thumb                                                          NaN  \n",
       "Pattern_Changer                                                NaN  \n",
       "Grouser_Type                                                   NaN  \n",
       "Backhoe_Mounting                                               NaN  \n",
       "Blade_Type                                                     NaN  \n",
       "Travel_Controls                                                NaN  \n",
       "Differential_Type                                         Standard  \n",
       "Steering_Controls                                     Conventional  "
      ]
     },
     "metadata": {},
     "output_type": "display_data"
    }
   ],
   "source": [
    "display_all(df_raw.head(10).transpose())"
   ]
  },
  {
   "cell_type": "markdown",
   "metadata": {},
   "source": [
    "В нашем случае мы видим очень много всяких солбцов с кучей непонятных данных. На самом деле, нас интересует только `SalePrice` и она называется dependent variable. То есть, все остальные данные влияют на формирование нашей цены."
   ]
  },
  {
   "cell_type": "markdown",
   "metadata": {},
   "source": [
    "\n",
    "\n",
    "Можно обратиться к полю `shape`, чтобы понять размер таблицы..."
   ]
  },
  {
   "cell_type": "code",
   "execution_count": 10,
   "metadata": {},
   "outputs": [
    {
     "data": {
      "text/plain": [
       "(401125, 53)"
      ]
     },
     "execution_count": 10,
     "metadata": {},
     "output_type": "execute_result"
    }
   ],
   "source": [
    "df_raw.shape"
   ]
  },
  {
   "cell_type": "markdown",
   "metadata": {},
   "source": [
    "Теперь глянем на тип данных, который содержится в таблице. Как видим, они разные. "
   ]
  },
  {
   "cell_type": "code",
   "execution_count": 11,
   "metadata": {},
   "outputs": [
    {
     "data": {
      "text/plain": [
       "SalesID                              int64\n",
       "SalePrice                            int64\n",
       "MachineID                            int64\n",
       "ModelID                              int64\n",
       "datasource                           int64\n",
       "auctioneerID                       float64\n",
       "YearMade                             int64\n",
       "MachineHoursCurrentMeter           float64\n",
       "UsageBand                           object\n",
       "saledate                    datetime64[ns]\n",
       "fiModelDesc                         object\n",
       "fiBaseModel                         object\n",
       "fiSecondaryDesc                     object\n",
       "fiModelSeries                       object\n",
       "fiModelDescriptor                   object\n",
       "ProductSize                         object\n",
       "fiProductClassDesc                  object\n",
       "state                               object\n",
       "ProductGroup                        object\n",
       "ProductGroupDesc                    object\n",
       "Drive_System                        object\n",
       "Enclosure                           object\n",
       "Forks                               object\n",
       "Pad_Type                            object\n",
       "Ride_Control                        object\n",
       "Stick                               object\n",
       "Transmission                        object\n",
       "Turbocharged                        object\n",
       "Blade_Extension                     object\n",
       "Blade_Width                         object\n",
       "Enclosure_Type                      object\n",
       "Engine_Horsepower                   object\n",
       "Hydraulics                          object\n",
       "Pushblock                           object\n",
       "Ripper                              object\n",
       "Scarifier                           object\n",
       "Tip_Control                         object\n",
       "Tire_Size                           object\n",
       "Coupler                             object\n",
       "Coupler_System                      object\n",
       "Grouser_Tracks                      object\n",
       "Hydraulics_Flow                     object\n",
       "Track_Type                          object\n",
       "Undercarriage_Pad_Width             object\n",
       "Stick_Length                        object\n",
       "Thumb                               object\n",
       "Pattern_Changer                     object\n",
       "Grouser_Type                        object\n",
       "Backhoe_Mounting                    object\n",
       "Blade_Type                          object\n",
       "Travel_Controls                     object\n",
       "Differential_Type                   object\n",
       "Steering_Controls                   object\n",
       "dtype: object"
      ]
     },
     "execution_count": 11,
     "metadata": {},
     "output_type": "execute_result"
    }
   ],
   "source": [
    "df_raw.dtypes"
   ]
  },
  {
   "cell_type": "markdown",
   "metadata": {},
   "source": [
    "Например, мы можем сменить тип данных в таблице. я не буду ничего менять, просто заменю на тот же, чтобы ничего не сломать. :)"
   ]
  },
  {
   "cell_type": "markdown",
   "metadata": {},
   "source": [
    "`df_raw.saledate.apply()` функция `.apply` преобразует поле `saledate` в формат даты представленный ниже через `pd.to_datetime`. С помощью `.apply` можно преобразовывать любое поле, как вам удобно(в большинстве случаев)"
   ]
  },
  {
   "cell_type": "code",
   "execution_count": 12,
   "metadata": {},
   "outputs": [
    {
     "data": {
      "text/plain": [
       "0        2006-11-16\n",
       "1        2004-03-26\n",
       "2        2004-02-26\n",
       "3        2011-05-19\n",
       "4        2009-07-23\n",
       "5        2008-12-18\n",
       "6        2004-08-26\n",
       "7        2005-11-17\n",
       "8        2009-08-27\n",
       "9        2007-08-09\n",
       "10       2008-08-21\n",
       "11       2006-08-24\n",
       "12       2005-10-20\n",
       "13       2006-01-26\n",
       "14       2006-01-03\n",
       "15       2006-11-16\n",
       "16       2007-06-14\n",
       "17       2010-01-28\n",
       "18       2006-03-09\n",
       "19       2005-11-17\n",
       "20       2006-05-18\n",
       "21       2006-10-19\n",
       "22       2007-10-25\n",
       "23       2006-10-19\n",
       "24       2004-05-20\n",
       "25       2006-03-09\n",
       "26       2006-03-09\n",
       "27       2007-02-22\n",
       "28       2007-08-09\n",
       "29       2006-06-01\n",
       "            ...    \n",
       "401095   2011-12-14\n",
       "401096   2011-09-15\n",
       "401097   2011-10-28\n",
       "401098   2011-08-16\n",
       "401099   2011-12-14\n",
       "401100   2011-08-16\n",
       "401101   2011-12-14\n",
       "401102   2011-08-16\n",
       "401103   2011-09-15\n",
       "401104   2011-08-16\n",
       "401105   2011-10-25\n",
       "401106   2011-08-16\n",
       "401107   2011-09-15\n",
       "401108   2011-08-16\n",
       "401109   2011-08-16\n",
       "401110   2011-09-15\n",
       "401111   2011-10-25\n",
       "401112   2011-10-25\n",
       "401113   2011-10-25\n",
       "401114   2011-11-15\n",
       "401115   2011-10-25\n",
       "401116   2011-10-25\n",
       "401117   2011-10-25\n",
       "401118   2011-10-25\n",
       "401119   2011-10-25\n",
       "401120   2011-11-02\n",
       "401121   2011-11-02\n",
       "401122   2011-11-02\n",
       "401123   2011-10-25\n",
       "401124   2011-10-25\n",
       "Name: saledate, Length: 401125, dtype: datetime64[ns]"
      ]
     },
     "execution_count": 12,
     "metadata": {},
     "output_type": "execute_result"
    }
   ],
   "source": [
    "df_raw.saledate.apply(pd.to_datetime)"
   ]
  },
  {
   "cell_type": "markdown",
   "metadata": {},
   "source": [
    "Метод `info()` позволяет получить краткую сводку по нашему набору данных. Посмотреть, где есть нулевые значения в столбцах и тд. Их можно заполнить с помощью метода `fillna()`"
   ]
  },
  {
   "cell_type": "code",
   "execution_count": 13,
   "metadata": {},
   "outputs": [
    {
     "name": "stdout",
     "output_type": "stream",
     "text": [
      "<class 'pandas.core.frame.DataFrame'>\n",
      "RangeIndex: 401125 entries, 0 to 401124\n",
      "Data columns (total 53 columns):\n",
      "SalesID                     401125 non-null int64\n",
      "SalePrice                   401125 non-null int64\n",
      "MachineID                   401125 non-null int64\n",
      "ModelID                     401125 non-null int64\n",
      "datasource                  401125 non-null int64\n",
      "auctioneerID                380989 non-null float64\n",
      "YearMade                    401125 non-null int64\n",
      "MachineHoursCurrentMeter    142765 non-null float64\n",
      "UsageBand                   69639 non-null object\n",
      "saledate                    401125 non-null datetime64[ns]\n",
      "fiModelDesc                 401125 non-null object\n",
      "fiBaseModel                 401125 non-null object\n",
      "fiSecondaryDesc             263934 non-null object\n",
      "fiModelSeries               56908 non-null object\n",
      "fiModelDescriptor           71919 non-null object\n",
      "ProductSize                 190350 non-null object\n",
      "fiProductClassDesc          401125 non-null object\n",
      "state                       401125 non-null object\n",
      "ProductGroup                401125 non-null object\n",
      "ProductGroupDesc            401125 non-null object\n",
      "Drive_System                104361 non-null object\n",
      "Enclosure                   400800 non-null object\n",
      "Forks                       192077 non-null object\n",
      "Pad_Type                    79134 non-null object\n",
      "Ride_Control                148606 non-null object\n",
      "Stick                       79134 non-null object\n",
      "Transmission                183230 non-null object\n",
      "Turbocharged                79134 non-null object\n",
      "Blade_Extension             25219 non-null object\n",
      "Blade_Width                 25219 non-null object\n",
      "Enclosure_Type              25219 non-null object\n",
      "Engine_Horsepower           25219 non-null object\n",
      "Hydraulics                  320570 non-null object\n",
      "Pushblock                   25219 non-null object\n",
      "Ripper                      104137 non-null object\n",
      "Scarifier                   25230 non-null object\n",
      "Tip_Control                 25219 non-null object\n",
      "Tire_Size                   94718 non-null object\n",
      "Coupler                     213952 non-null object\n",
      "Coupler_System              43458 non-null object\n",
      "Grouser_Tracks              43362 non-null object\n",
      "Hydraulics_Flow             43362 non-null object\n",
      "Track_Type                  99153 non-null object\n",
      "Undercarriage_Pad_Width     99872 non-null object\n",
      "Stick_Length                99218 non-null object\n",
      "Thumb                       99288 non-null object\n",
      "Pattern_Changer             99218 non-null object\n",
      "Grouser_Type                99153 non-null object\n",
      "Backhoe_Mounting            78672 non-null object\n",
      "Blade_Type                  79833 non-null object\n",
      "Travel_Controls             79834 non-null object\n",
      "Differential_Type           69411 non-null object\n",
      "Steering_Controls           69369 non-null object\n",
      "dtypes: datetime64[ns](1), float64(2), int64(6), object(44)\n",
      "memory usage: 162.2+ MB\n"
     ]
    }
   ],
   "source": [
    "df_raw.info()"
   ]
  },
  {
   "cell_type": "markdown",
   "metadata": {},
   "source": [
    "Дальше нам стоит глянуть на то, как Kaggle будет оценивать наше решение. На сайте указано RMSLE. Это значит, что недообучение будет штрафоваться больше чем переобучение алгоритма. В формулы я углубляться не буду. Нам по.\n",
    "\n",
    "Case a) : Pi = 600, Ai = 1000 RMSE = 400, RMSLE = 0.5108\n",
    "\n",
    "Case b) : Pi = 1400, Ai = 1000 RMSE = 400, RMSLE = 0.3365\n",
    "\n",
    "Самое важное здесь то, что RMSLE в отличие от RMSE использует log. Поэтому нам нужно работать с log данными. В это лучше не вдаваться, а принять как есть - нам нужен натуральный логарифм `.log` от поля SalePrice (цены)."
   ]
  },
  {
   "cell_type": "code",
   "execution_count": 14,
   "metadata": {},
   "outputs": [],
   "source": [
    "df_raw.SalePrice = np.log(df_raw.SalePrice)"
   ]
  },
  {
   "cell_type": "code",
   "execution_count": 15,
   "metadata": {},
   "outputs": [],
   "source": [
    "?np.log()"
   ]
  },
  {
   "cell_type": "markdown",
   "metadata": {},
   "source": [
    "## Random Forest"
   ]
  },
  {
   "cell_type": "markdown",
   "metadata": {},
   "source": [
    "Теперь приступим непосредственно к ML. Что такое Random forest мы разберем позднее. Сейчас можно просто сделать вид, что это своего рода универсальная ML техника. Которая позволяет предсказывать различные категории данных. Будь то классификация кошек и собак или предсказание цены. Имеет хорошую толерантность к overfit. Мы потом разберем это подробнее. Для него не нужно разделять validation set - он может сказать о том, как хорошо он обобщает/предсказывает/выделяет имея только один набор данных. У него еще много всяких статистических допущений и т.д. Это все очень круто и именно эта техника хорошее место для старта.  \n",
    "\n",
    "Если ваш первый random forest дает очень мало полезной информации, то проблема сокроее всего в ваших данных. Т.к. он был спроектирован с той целью, чтобы работать \"из коробки\". "
   ]
  },
  {
   "cell_type": "code",
   "execution_count": 16,
   "metadata": {},
   "outputs": [
    {
     "data": {
      "text/plain": [
       "sklearn.ensemble.forest.RandomForestClassifier"
      ]
     },
     "execution_count": 16,
     "metadata": {},
     "output_type": "execute_result"
    }
   ],
   "source": [
    "RandomForestRegressor\n",
    "RandomForestClassifier"
   ]
  },
  {
   "cell_type": "markdown",
   "metadata": {},
   "source": [
    "Итак, мы видим, что `RandomForestRegressor` идет из библы sklearn. Это один из самых популярных и важных пакетов в сфере ML. Он делает практически все, что угодно. Он не лучший во всем этом, но точно очень хорош. "
   ]
  },
  {
   "cell_type": "markdown",
   "metadata": {},
   "source": [
    "Тут есть еще одна фича. Regressor используется для непрерывных величин, таких как цена, например. А Classifier используется для категорий и это называется классификацией."
   ]
  },
  {
   "cell_type": "markdown",
   "metadata": {},
   "source": [
    "В нашем случае мы имеем дело с непрерывной величиной - ценой. Поэтому будем использовать регрессию.\n",
    "\n",
    "На этом этапе и начинается обучение нашего \"искусственного интеллекта\". В целом, в scykit-learn библе используется стандартный подход:\n",
    "- Создаем объект класса. Здесь n_jobs - это кол-во используемых ядер CPU. -1 означает все доступные ядра.\n",
    "- Вызываем метод `.fit()` (тренировка), куда передаем Independent variables на основе которых будем что-то предсказывать и dependent variable - ту, которую необходимо предсказать\n",
    "\n",
    "В методе `fit()` у датасета `df_raw` я вызываю метод `drop()`, чтобы откинуть ненужный нам столбец с dependent данными. Параметр `axis` отвечает удалять ли нам название столбца - 1 или не удалять - 0 (так же можно использовать непосредственно наименования столбца для его удаления).Таким образом в датасете остаются только independent данные."
   ]
  },
  {
   "cell_type": "code",
   "execution_count": 17,
   "metadata": {},
   "outputs": [
    {
     "ename": "ValueError",
     "evalue": "could not convert string to float: 'Conventional'",
     "output_type": "error",
     "traceback": [
      "\u001b[0;31m---------------------------------------------------------------------------\u001b[0m",
      "\u001b[0;31mValueError\u001b[0m                                Traceback (most recent call last)",
      "\u001b[0;32m<ipython-input-17-08aa6c84eee0>\u001b[0m in \u001b[0;36m<module>\u001b[0;34m()\u001b[0m\n\u001b[1;32m      1\u001b[0m \u001b[0mm\u001b[0m \u001b[0;34m=\u001b[0m \u001b[0mRandomForestRegressor\u001b[0m\u001b[0;34m(\u001b[0m\u001b[0mn_jobs\u001b[0m\u001b[0;34m=\u001b[0m\u001b[0;34m-\u001b[0m\u001b[0;36m1\u001b[0m\u001b[0;34m)\u001b[0m\u001b[0;34m\u001b[0m\u001b[0m\n\u001b[0;32m----> 2\u001b[0;31m \u001b[0mm\u001b[0m\u001b[0;34m.\u001b[0m\u001b[0mfit\u001b[0m\u001b[0;34m(\u001b[0m\u001b[0mdf_raw\u001b[0m\u001b[0;34m.\u001b[0m\u001b[0mdrop\u001b[0m\u001b[0;34m(\u001b[0m\u001b[0;34m'SalePrice'\u001b[0m\u001b[0;34m,\u001b[0m \u001b[0maxis\u001b[0m\u001b[0;34m=\u001b[0m\u001b[0;36m1\u001b[0m\u001b[0;34m)\u001b[0m\u001b[0;34m,\u001b[0m \u001b[0mdf_raw\u001b[0m\u001b[0;34m.\u001b[0m\u001b[0mSalePrice\u001b[0m\u001b[0;34m)\u001b[0m\u001b[0;34m\u001b[0m\u001b[0m\n\u001b[0m",
      "\u001b[0;32m~/py_36_env/lib/python3.6/site-packages/sklearn/ensemble/forest.py\u001b[0m in \u001b[0;36mfit\u001b[0;34m(self, X, y, sample_weight)\u001b[0m\n\u001b[1;32m    245\u001b[0m         \"\"\"\n\u001b[1;32m    246\u001b[0m         \u001b[0;31m# Validate or convert input data\u001b[0m\u001b[0;34m\u001b[0m\u001b[0;34m\u001b[0m\u001b[0m\n\u001b[0;32m--> 247\u001b[0;31m         \u001b[0mX\u001b[0m \u001b[0;34m=\u001b[0m \u001b[0mcheck_array\u001b[0m\u001b[0;34m(\u001b[0m\u001b[0mX\u001b[0m\u001b[0;34m,\u001b[0m \u001b[0maccept_sparse\u001b[0m\u001b[0;34m=\u001b[0m\u001b[0;34m\"csc\"\u001b[0m\u001b[0;34m,\u001b[0m \u001b[0mdtype\u001b[0m\u001b[0;34m=\u001b[0m\u001b[0mDTYPE\u001b[0m\u001b[0;34m)\u001b[0m\u001b[0;34m\u001b[0m\u001b[0m\n\u001b[0m\u001b[1;32m    248\u001b[0m         \u001b[0my\u001b[0m \u001b[0;34m=\u001b[0m \u001b[0mcheck_array\u001b[0m\u001b[0;34m(\u001b[0m\u001b[0my\u001b[0m\u001b[0;34m,\u001b[0m \u001b[0maccept_sparse\u001b[0m\u001b[0;34m=\u001b[0m\u001b[0;34m'csc'\u001b[0m\u001b[0;34m,\u001b[0m \u001b[0mensure_2d\u001b[0m\u001b[0;34m=\u001b[0m\u001b[0;32mFalse\u001b[0m\u001b[0;34m,\u001b[0m \u001b[0mdtype\u001b[0m\u001b[0;34m=\u001b[0m\u001b[0;32mNone\u001b[0m\u001b[0;34m)\u001b[0m\u001b[0;34m\u001b[0m\u001b[0m\n\u001b[1;32m    249\u001b[0m         \u001b[0;32mif\u001b[0m \u001b[0msample_weight\u001b[0m \u001b[0;32mis\u001b[0m \u001b[0;32mnot\u001b[0m \u001b[0;32mNone\u001b[0m\u001b[0;34m:\u001b[0m\u001b[0;34m\u001b[0m\u001b[0m\n",
      "\u001b[0;32m~/py_36_env/lib/python3.6/site-packages/sklearn/utils/validation.py\u001b[0m in \u001b[0;36mcheck_array\u001b[0;34m(array, accept_sparse, dtype, order, copy, force_all_finite, ensure_2d, allow_nd, ensure_min_samples, ensure_min_features, warn_on_dtype, estimator)\u001b[0m\n\u001b[1;32m    431\u001b[0m                                       force_all_finite)\n\u001b[1;32m    432\u001b[0m     \u001b[0;32melse\u001b[0m\u001b[0;34m:\u001b[0m\u001b[0;34m\u001b[0m\u001b[0m\n\u001b[0;32m--> 433\u001b[0;31m         \u001b[0marray\u001b[0m \u001b[0;34m=\u001b[0m \u001b[0mnp\u001b[0m\u001b[0;34m.\u001b[0m\u001b[0marray\u001b[0m\u001b[0;34m(\u001b[0m\u001b[0marray\u001b[0m\u001b[0;34m,\u001b[0m \u001b[0mdtype\u001b[0m\u001b[0;34m=\u001b[0m\u001b[0mdtype\u001b[0m\u001b[0;34m,\u001b[0m \u001b[0morder\u001b[0m\u001b[0;34m=\u001b[0m\u001b[0morder\u001b[0m\u001b[0;34m,\u001b[0m \u001b[0mcopy\u001b[0m\u001b[0;34m=\u001b[0m\u001b[0mcopy\u001b[0m\u001b[0;34m)\u001b[0m\u001b[0;34m\u001b[0m\u001b[0m\n\u001b[0m\u001b[1;32m    434\u001b[0m \u001b[0;34m\u001b[0m\u001b[0m\n\u001b[1;32m    435\u001b[0m         \u001b[0;32mif\u001b[0m \u001b[0mensure_2d\u001b[0m\u001b[0;34m:\u001b[0m\u001b[0;34m\u001b[0m\u001b[0m\n",
      "\u001b[0;31mValueError\u001b[0m: could not convert string to float: 'Conventional'"
     ]
    }
   ],
   "source": [
    "m = RandomForestRegressor(n_jobs=-1)\n",
    "m.fit(df_raw.drop('SalePrice', axis=1), df_raw.SalePrice)"
   ]
  },
  {
   "cell_type": "code",
   "execution_count": 18,
   "metadata": {},
   "outputs": [],
   "source": [
    "?df_raw.drop()"
   ]
  },
  {
   "cell_type": "markdown",
   "metadata": {},
   "source": [
    "Ошибочка! Ничего, сейчас разберемся. Главный лайфхак тут сразу пропускать stacktrace и идти в конец листинга. Там будет описание ошибки. `ValueError: could not convert string to float: 'Conventional'` которая говорит нам о том, что не может конвертировать строковые данные во float. Вообще, большинство ML моделей будут работать с числами, особенно random forest... Поэтому, нам нужно просто все перевести в числовой формат."
   ]
  },
  {
   "cell_type": "markdown",
   "metadata": {},
   "source": [
    "Наш датасет содержит два типа данных:\n",
    "- непрерывные величины (continious variables), такие как цены, например\n",
    "- категории (categorical variables),которые могут быть как текстовыми(\"большой\", \"маленький\"), так и числовыми, значение которых может быть не непрерывным - например ZIP коды.\n",
    "\n",
    "Наша задача получить такой датасет, где ВСЕ данные имеют значение и которые мы можем использовать для построения модели. \n",
    "Возьмем конкретный пример. Помните, я уже немного говорил про тип данных `df_raw.saledate`, который является `datetime64`. Нам нужно сделать его числовым. И здесь мы впервые займемся feature engineering'ом"
   ]
  },
  {
   "cell_type": "markdown",
   "metadata": {},
   "source": [
    "На самом деле внутри даты спрятано очень много интересных данных. Например, выходной это или нет, праздничный ли день, какой день недели, месяц и т.д. Был ли в этот день дождь? Был ли какой-то спортивный евент в этот день? Все это может дать нам дополнительные данные для предсказаний. Ни один алгоритм не скажет нам, играет ли роль дождь в этот день... Это та часть feature engineering, которую мы должны делать сами. \n",
    "\n",
    "Мы будем стараться делать упор на автоматизациию, поэтому многие вещи будут заскриптованы. Разберем пример:"
   ]
  },
  {
   "cell_type": "code",
   "execution_count": 19,
   "metadata": {
    "scrolled": true
   },
   "outputs": [
    {
     "data": {
      "text/plain": [
       "<function fastai.structured.add_datepart(df, fldname, drop=True, time=False)>"
      ]
     },
     "execution_count": 19,
     "metadata": {},
     "output_type": "execute_result"
    }
   ],
   "source": [
    "add_datepart"
   ]
  },
  {
   "cell_type": "markdown",
   "metadata": {},
   "source": [
    "Это функция из библы fast.ai... Почитаем исходники..."
   ]
  },
  {
   "cell_type": "code",
   "execution_count": 20,
   "metadata": {},
   "outputs": [],
   "source": [
    "??add_datepart"
   ]
  },
  {
   "cell_type": "markdown",
   "metadata": {},
   "source": [
    "`add_datepart` преобразует столбец df из datetime64 во множество столбцов, содержащих информацию о дате. Изменения происходят внутри, в нашем случае, таблицы. Передаем в аргументы функции наши столбцы, и поле даты, которую необходимо разобрать по кусочкам."
   ]
  },
  {
   "cell_type": "code",
   "execution_count": 21,
   "metadata": {},
   "outputs": [],
   "source": [
    "add_datepart(df_raw, 'saledate')"
   ]
  },
  {
   "cell_type": "code",
   "execution_count": 22,
   "metadata": {},
   "outputs": [
    {
     "data": {
      "text/html": [
       "<div>\n",
       "<style scoped>\n",
       "    .dataframe tbody tr th:only-of-type {\n",
       "        vertical-align: middle;\n",
       "    }\n",
       "\n",
       "    .dataframe tbody tr th {\n",
       "        vertical-align: top;\n",
       "    }\n",
       "\n",
       "    .dataframe thead th {\n",
       "        text-align: right;\n",
       "    }\n",
       "</style>\n",
       "<table border=\"1\" class=\"dataframe\">\n",
       "  <thead>\n",
       "    <tr style=\"text-align: right;\">\n",
       "      <th></th>\n",
       "      <th>SalesID</th>\n",
       "      <th>SalePrice</th>\n",
       "      <th>MachineID</th>\n",
       "      <th>ModelID</th>\n",
       "      <th>datasource</th>\n",
       "      <th>auctioneerID</th>\n",
       "      <th>YearMade</th>\n",
       "      <th>MachineHoursCurrentMeter</th>\n",
       "      <th>UsageBand</th>\n",
       "      <th>fiModelDesc</th>\n",
       "      <th>...</th>\n",
       "      <th>saleDay</th>\n",
       "      <th>saleDayofweek</th>\n",
       "      <th>saleDayofyear</th>\n",
       "      <th>saleIs_month_end</th>\n",
       "      <th>saleIs_month_start</th>\n",
       "      <th>saleIs_quarter_end</th>\n",
       "      <th>saleIs_quarter_start</th>\n",
       "      <th>saleIs_year_end</th>\n",
       "      <th>saleIs_year_start</th>\n",
       "      <th>saleElapsed</th>\n",
       "    </tr>\n",
       "  </thead>\n",
       "  <tbody>\n",
       "    <tr>\n",
       "      <th>0</th>\n",
       "      <td>1139246</td>\n",
       "      <td>11.097410</td>\n",
       "      <td>999089</td>\n",
       "      <td>3157</td>\n",
       "      <td>121</td>\n",
       "      <td>3.0</td>\n",
       "      <td>2004</td>\n",
       "      <td>68.0</td>\n",
       "      <td>Low</td>\n",
       "      <td>521D</td>\n",
       "      <td>...</td>\n",
       "      <td>16</td>\n",
       "      <td>3</td>\n",
       "      <td>320</td>\n",
       "      <td>False</td>\n",
       "      <td>False</td>\n",
       "      <td>False</td>\n",
       "      <td>False</td>\n",
       "      <td>False</td>\n",
       "      <td>False</td>\n",
       "      <td>1163635200</td>\n",
       "    </tr>\n",
       "    <tr>\n",
       "      <th>1</th>\n",
       "      <td>1139248</td>\n",
       "      <td>10.950807</td>\n",
       "      <td>117657</td>\n",
       "      <td>77</td>\n",
       "      <td>121</td>\n",
       "      <td>3.0</td>\n",
       "      <td>1996</td>\n",
       "      <td>4640.0</td>\n",
       "      <td>Low</td>\n",
       "      <td>950FII</td>\n",
       "      <td>...</td>\n",
       "      <td>26</td>\n",
       "      <td>4</td>\n",
       "      <td>86</td>\n",
       "      <td>False</td>\n",
       "      <td>False</td>\n",
       "      <td>False</td>\n",
       "      <td>False</td>\n",
       "      <td>False</td>\n",
       "      <td>False</td>\n",
       "      <td>1080259200</td>\n",
       "    </tr>\n",
       "    <tr>\n",
       "      <th>2</th>\n",
       "      <td>1139249</td>\n",
       "      <td>9.210340</td>\n",
       "      <td>434808</td>\n",
       "      <td>7009</td>\n",
       "      <td>121</td>\n",
       "      <td>3.0</td>\n",
       "      <td>2001</td>\n",
       "      <td>2838.0</td>\n",
       "      <td>High</td>\n",
       "      <td>226</td>\n",
       "      <td>...</td>\n",
       "      <td>26</td>\n",
       "      <td>3</td>\n",
       "      <td>57</td>\n",
       "      <td>False</td>\n",
       "      <td>False</td>\n",
       "      <td>False</td>\n",
       "      <td>False</td>\n",
       "      <td>False</td>\n",
       "      <td>False</td>\n",
       "      <td>1077753600</td>\n",
       "    </tr>\n",
       "  </tbody>\n",
       "</table>\n",
       "<p>3 rows × 65 columns</p>\n",
       "</div>"
      ],
      "text/plain": [
       "   SalesID  SalePrice  MachineID  ModelID  datasource  auctioneerID  YearMade  \\\n",
       "0  1139246  11.097410     999089     3157         121           3.0      2004   \n",
       "1  1139248  10.950807     117657       77         121           3.0      1996   \n",
       "2  1139249   9.210340     434808     7009         121           3.0      2001   \n",
       "\n",
       "   MachineHoursCurrentMeter UsageBand fiModelDesc     ...     saleDay  \\\n",
       "0                      68.0       Low        521D     ...          16   \n",
       "1                    4640.0       Low      950FII     ...          26   \n",
       "2                    2838.0      High         226     ...          26   \n",
       "\n",
       "  saleDayofweek saleDayofyear saleIs_month_end saleIs_month_start  \\\n",
       "0             3           320            False              False   \n",
       "1             4            86            False              False   \n",
       "2             3            57            False              False   \n",
       "\n",
       "  saleIs_quarter_end saleIs_quarter_start saleIs_year_end saleIs_year_start  \\\n",
       "0              False                False           False             False   \n",
       "1              False                False           False             False   \n",
       "2              False                False           False             False   \n",
       "\n",
       "  saleElapsed  \n",
       "0  1163635200  \n",
       "1  1080259200  \n",
       "2  1077753600  \n",
       "\n",
       "[3 rows x 65 columns]"
      ]
     },
     "execution_count": 22,
     "metadata": {},
     "output_type": "execute_result"
    }
   ],
   "source": [
    "df_raw.head(3)"
   ]
  },
  {
   "cell_type": "markdown",
   "metadata": {},
   "source": [
    "Как мы видим выше, функция взяла столбец из нашего датасета и распарсила его дату на числовые столбцы, такие как дни, месяцы, выходной-не выходной и т.д. Таким образом мы произвели свой первый простой feature engineering. Но у нас все равно много текстовых данных. Их нужно как-то превратить в категории. Для этого в fast.ai библе есть функция `train_cats`, которая создает категории из строк."
   ]
  },
  {
   "cell_type": "code",
   "execution_count": 93,
   "metadata": {},
   "outputs": [],
   "source": [
    "??train_cats"
   ]
  },
  {
   "cell_type": "code",
   "execution_count": 94,
   "metadata": {},
   "outputs": [],
   "source": [
    "??apply_cats"
   ]
  },
  {
   "cell_type": "code",
   "execution_count": 25,
   "metadata": {},
   "outputs": [],
   "source": [
    "train_cats(df_raw)"
   ]
  },
  {
   "cell_type": "markdown",
   "metadata": {},
   "source": [
    "Проблема здесь в том, что когда у нас будут разные датасеты:\n",
    "- validation set\n",
    "- trainig set\n",
    "то `train_cats()` работать будет неправильно. Поскольку, датасеты разные и категории могут быть тоже разные. Поэтому здесь нам на помощь приходит `apply_cats()`.\n",
    "\n",
    "Посмотрим, как поменялся наш датасет после `train_cats()`"
   ]
  },
  {
   "cell_type": "code",
   "execution_count": 26,
   "metadata": {},
   "outputs": [
    {
     "data": {
      "text/plain": [
       "Index(['High', 'Low', 'Medium'], dtype='object')"
      ]
     },
     "execution_count": 26,
     "metadata": {},
     "output_type": "execute_result"
    }
   ],
   "source": [
    "df_raw.UsageBand.cat.categories"
   ]
  },
  {
   "cell_type": "markdown",
   "metadata": {},
   "source": [
    "Параметр таблицы `UsageBand`, который был строкой стал категорией. Отлично! Но проблема в том, что порядок какой-то непарвильный. Высокий->Низкий->Средний... Для random forest это будет как 1,2,3. Но при этом логика категории сбивается...\n",
    "Поэтому отсортируем в правильном порядке."
   ]
  },
  {
   "cell_type": "code",
   "execution_count": 27,
   "metadata": {},
   "outputs": [],
   "source": [
    "df_raw.UsageBand.cat.set_categories(['High', 'Medium', 'Low'], ordered=True, inplace=True)"
   ]
  },
  {
   "cell_type": "code",
   "execution_count": 28,
   "metadata": {},
   "outputs": [
    {
     "data": {
      "text/plain": [
       "Index(['High', 'Medium', 'Low'], dtype='object')"
      ]
     },
     "execution_count": 28,
     "metadata": {},
     "output_type": "execute_result"
    }
   ],
   "source": [
    "df_raw.UsageBand.cat.categories"
   ]
  },
  {
   "cell_type": "markdown",
   "metadata": {},
   "source": [
    "Другое дело. Теперь все выглядит правильно. Но мы все равно еще не закончили с подготовкой данных, потому что у нас еще много пустых полей, которые нельзя передавать в random forest"
   ]
  },
  {
   "cell_type": "markdown",
   "metadata": {},
   "source": [
    "Теперь сохраним файл в бинарный feather формат, который ускорит чтение и запись. Этот формат становится стандартом, так что про него важно знать."
   ]
  },
  {
   "cell_type": "code",
   "execution_count": 61,
   "metadata": {},
   "outputs": [],
   "source": [
    "os.makedirs('tmp', exist_ok=True)\n",
    "df_raw.to_feather('tmp/raw')"
   ]
  },
  {
   "cell_type": "markdown",
   "metadata": {},
   "source": [
    "# Preprocessing\n",
    "Дальше необязательно делать все то, что мы делали выше, чтобы считать наш датафрейм. Теперь будет достаточно:"
   ]
  },
  {
   "cell_type": "code",
   "execution_count": 62,
   "metadata": {},
   "outputs": [
    {
     "name": "stderr",
     "output_type": "stream",
     "text": [
      "/home/sadovnik/py_36_env/lib/python3.6/site-packages/pandas/io/feather_format.py:112: FutureWarning: `nthreads` argument is deprecated, pass `use_threads` instead\n",
      "  return feather.read_dataframe(path, nthreads=nthreads)\n"
     ]
    }
   ],
   "source": [
    "df_raw = pd.read_feather('tmp/raw')"
   ]
  },
  {
   "cell_type": "markdown",
   "metadata": {},
   "source": [
    "Теперь все должно работать намного быстрее. Раньше прогрузка датафрейма занимала минуты..."
   ]
  },
  {
   "cell_type": "code",
   "execution_count": 99,
   "metadata": {},
   "outputs": [],
   "source": [
    "??proc_df"
   ]
  },
  {
   "cell_type": "markdown",
   "metadata": {},
   "source": [
    "Чистит наши данные. Лучше сразу смотреть в исходники, иначе придется много писать. В целом просто заполняет медианой пустые значения и подменяет -1 на 0 и убирает dependent данные.\n",
    "    В `df` копирует модифицированный датасет без dependent данных и пустых полей. В `y` складывает наши dependent данные, которые нужно предсказать."
   ]
  },
  {
   "cell_type": "code",
   "execution_count": 64,
   "metadata": {},
   "outputs": [],
   "source": [
    "df, y, nas = proc_df(df_raw, 'SalePrice')"
   ]
  },
  {
   "cell_type": "code",
   "execution_count": 65,
   "metadata": {},
   "outputs": [
    {
     "data": {
      "text/plain": [
       "Index(['SalesID', 'MachineID', 'ModelID', 'datasource', 'auctioneerID',\n",
       "       'YearMade', 'MachineHoursCurrentMeter', 'UsageBand', 'fiModelDesc',\n",
       "       'fiBaseModel', 'fiSecondaryDesc', 'fiModelSeries', 'fiModelDescriptor',\n",
       "       'ProductSize', 'fiProductClassDesc', 'state', 'ProductGroup',\n",
       "       'ProductGroupDesc', 'Drive_System', 'Enclosure', 'Forks', 'Pad_Type',\n",
       "       'Ride_Control', 'Stick', 'Transmission', 'Turbocharged',\n",
       "       'Blade_Extension', 'Blade_Width', 'Enclosure_Type', 'Engine_Horsepower',\n",
       "       'Hydraulics', 'Pushblock', 'Ripper', 'Scarifier', 'Tip_Control',\n",
       "       'Tire_Size', 'Coupler', 'Coupler_System', 'Grouser_Tracks',\n",
       "       'Hydraulics_Flow', 'Track_Type', 'Undercarriage_Pad_Width',\n",
       "       'Stick_Length', 'Thumb', 'Pattern_Changer', 'Grouser_Type',\n",
       "       'Backhoe_Mounting', 'Blade_Type', 'Travel_Controls',\n",
       "       'Differential_Type', 'Steering_Controls', 'saleYear', 'saleMonth',\n",
       "       'saleWeek', 'saleDay', 'saleDayofweek', 'saleDayofyear',\n",
       "       'saleIs_month_end', 'saleIs_month_start', 'saleIs_quarter_end',\n",
       "       'saleIs_quarter_start', 'saleIs_year_end', 'saleIs_year_start',\n",
       "       'saleElapsed', 'auctioneerID_na', 'MachineHoursCurrentMeter_na'],\n",
       "      dtype='object')"
      ]
     },
     "execution_count": 65,
     "metadata": {},
     "output_type": "execute_result"
    }
   ],
   "source": [
    "df.columns"
   ]
  },
  {
   "cell_type": "markdown",
   "metadata": {},
   "source": [
    "Как видим, теперь dependent данных в датафрейме нет. Он готов для передачи на обучение алгоритму."
   ]
  },
  {
   "cell_type": "code",
   "execution_count": 66,
   "metadata": {},
   "outputs": [
    {
     "data": {
      "text/html": [
       "<div>\n",
       "<style scoped>\n",
       "    .dataframe tbody tr th:only-of-type {\n",
       "        vertical-align: middle;\n",
       "    }\n",
       "\n",
       "    .dataframe tbody tr th {\n",
       "        vertical-align: top;\n",
       "    }\n",
       "\n",
       "    .dataframe thead th {\n",
       "        text-align: right;\n",
       "    }\n",
       "</style>\n",
       "<table border=\"1\" class=\"dataframe\">\n",
       "  <thead>\n",
       "    <tr style=\"text-align: right;\">\n",
       "      <th></th>\n",
       "      <th>SalesID</th>\n",
       "      <th>MachineID</th>\n",
       "      <th>ModelID</th>\n",
       "      <th>datasource</th>\n",
       "      <th>auctioneerID</th>\n",
       "      <th>YearMade</th>\n",
       "      <th>MachineHoursCurrentMeter</th>\n",
       "      <th>UsageBand</th>\n",
       "      <th>fiModelDesc</th>\n",
       "      <th>fiBaseModel</th>\n",
       "      <th>...</th>\n",
       "      <th>saleDayofyear</th>\n",
       "      <th>saleIs_month_end</th>\n",
       "      <th>saleIs_month_start</th>\n",
       "      <th>saleIs_quarter_end</th>\n",
       "      <th>saleIs_quarter_start</th>\n",
       "      <th>saleIs_year_end</th>\n",
       "      <th>saleIs_year_start</th>\n",
       "      <th>saleElapsed</th>\n",
       "      <th>auctioneerID_na</th>\n",
       "      <th>MachineHoursCurrentMeter_na</th>\n",
       "    </tr>\n",
       "  </thead>\n",
       "  <tbody>\n",
       "    <tr>\n",
       "      <th>0</th>\n",
       "      <td>1139246</td>\n",
       "      <td>999089</td>\n",
       "      <td>3157</td>\n",
       "      <td>121</td>\n",
       "      <td>3.0</td>\n",
       "      <td>2004</td>\n",
       "      <td>68.0</td>\n",
       "      <td>3</td>\n",
       "      <td>950</td>\n",
       "      <td>296</td>\n",
       "      <td>...</td>\n",
       "      <td>320</td>\n",
       "      <td>False</td>\n",
       "      <td>False</td>\n",
       "      <td>False</td>\n",
       "      <td>False</td>\n",
       "      <td>False</td>\n",
       "      <td>False</td>\n",
       "      <td>1163635200</td>\n",
       "      <td>False</td>\n",
       "      <td>False</td>\n",
       "    </tr>\n",
       "    <tr>\n",
       "      <th>1</th>\n",
       "      <td>1139248</td>\n",
       "      <td>117657</td>\n",
       "      <td>77</td>\n",
       "      <td>121</td>\n",
       "      <td>3.0</td>\n",
       "      <td>1996</td>\n",
       "      <td>4640.0</td>\n",
       "      <td>3</td>\n",
       "      <td>1725</td>\n",
       "      <td>527</td>\n",
       "      <td>...</td>\n",
       "      <td>86</td>\n",
       "      <td>False</td>\n",
       "      <td>False</td>\n",
       "      <td>False</td>\n",
       "      <td>False</td>\n",
       "      <td>False</td>\n",
       "      <td>False</td>\n",
       "      <td>1080259200</td>\n",
       "      <td>False</td>\n",
       "      <td>False</td>\n",
       "    </tr>\n",
       "    <tr>\n",
       "      <th>2</th>\n",
       "      <td>1139249</td>\n",
       "      <td>434808</td>\n",
       "      <td>7009</td>\n",
       "      <td>121</td>\n",
       "      <td>3.0</td>\n",
       "      <td>2001</td>\n",
       "      <td>2838.0</td>\n",
       "      <td>1</td>\n",
       "      <td>331</td>\n",
       "      <td>110</td>\n",
       "      <td>...</td>\n",
       "      <td>57</td>\n",
       "      <td>False</td>\n",
       "      <td>False</td>\n",
       "      <td>False</td>\n",
       "      <td>False</td>\n",
       "      <td>False</td>\n",
       "      <td>False</td>\n",
       "      <td>1077753600</td>\n",
       "      <td>False</td>\n",
       "      <td>False</td>\n",
       "    </tr>\n",
       "    <tr>\n",
       "      <th>3</th>\n",
       "      <td>1139251</td>\n",
       "      <td>1026470</td>\n",
       "      <td>332</td>\n",
       "      <td>121</td>\n",
       "      <td>3.0</td>\n",
       "      <td>2001</td>\n",
       "      <td>3486.0</td>\n",
       "      <td>1</td>\n",
       "      <td>3674</td>\n",
       "      <td>1375</td>\n",
       "      <td>...</td>\n",
       "      <td>139</td>\n",
       "      <td>False</td>\n",
       "      <td>False</td>\n",
       "      <td>False</td>\n",
       "      <td>False</td>\n",
       "      <td>False</td>\n",
       "      <td>False</td>\n",
       "      <td>1305763200</td>\n",
       "      <td>False</td>\n",
       "      <td>False</td>\n",
       "    </tr>\n",
       "    <tr>\n",
       "      <th>4</th>\n",
       "      <td>1139253</td>\n",
       "      <td>1057373</td>\n",
       "      <td>17311</td>\n",
       "      <td>121</td>\n",
       "      <td>3.0</td>\n",
       "      <td>2007</td>\n",
       "      <td>722.0</td>\n",
       "      <td>2</td>\n",
       "      <td>4208</td>\n",
       "      <td>1529</td>\n",
       "      <td>...</td>\n",
       "      <td>204</td>\n",
       "      <td>False</td>\n",
       "      <td>False</td>\n",
       "      <td>False</td>\n",
       "      <td>False</td>\n",
       "      <td>False</td>\n",
       "      <td>False</td>\n",
       "      <td>1248307200</td>\n",
       "      <td>False</td>\n",
       "      <td>False</td>\n",
       "    </tr>\n",
       "  </tbody>\n",
       "</table>\n",
       "<p>5 rows × 66 columns</p>\n",
       "</div>"
      ],
      "text/plain": [
       "   SalesID  MachineID  ModelID  datasource  auctioneerID  YearMade  \\\n",
       "0  1139246     999089     3157         121           3.0      2004   \n",
       "1  1139248     117657       77         121           3.0      1996   \n",
       "2  1139249     434808     7009         121           3.0      2001   \n",
       "3  1139251    1026470      332         121           3.0      2001   \n",
       "4  1139253    1057373    17311         121           3.0      2007   \n",
       "\n",
       "   MachineHoursCurrentMeter  UsageBand  fiModelDesc  fiBaseModel  \\\n",
       "0                      68.0          3          950          296   \n",
       "1                    4640.0          3         1725          527   \n",
       "2                    2838.0          1          331          110   \n",
       "3                    3486.0          1         3674         1375   \n",
       "4                     722.0          2         4208         1529   \n",
       "\n",
       "              ...               saleDayofyear  saleIs_month_end  \\\n",
       "0             ...                         320             False   \n",
       "1             ...                          86             False   \n",
       "2             ...                          57             False   \n",
       "3             ...                         139             False   \n",
       "4             ...                         204             False   \n",
       "\n",
       "   saleIs_month_start  saleIs_quarter_end  saleIs_quarter_start  \\\n",
       "0               False               False                 False   \n",
       "1               False               False                 False   \n",
       "2               False               False                 False   \n",
       "3               False               False                 False   \n",
       "4               False               False                 False   \n",
       "\n",
       "   saleIs_year_end  saleIs_year_start  saleElapsed  auctioneerID_na  \\\n",
       "0            False              False   1163635200            False   \n",
       "1            False              False   1080259200            False   \n",
       "2            False              False   1077753600            False   \n",
       "3            False              False   1305763200            False   \n",
       "4            False              False   1248307200            False   \n",
       "\n",
       "   MachineHoursCurrentMeter_na  \n",
       "0                        False  \n",
       "1                        False  \n",
       "2                        False  \n",
       "3                        False  \n",
       "4                        False  \n",
       "\n",
       "[5 rows x 66 columns]"
      ]
     },
     "execution_count": 66,
     "metadata": {},
     "output_type": "execute_result"
    }
   ],
   "source": [
    "df.head()"
   ]
  },
  {
   "cell_type": "markdown",
   "metadata": {},
   "source": [
    "Как видим, теперь у нас только числа. Да, у нас присутствуют не countinious данные, такие как ModelID, но Random forest к ним довольно толерантен. Потом мы еще к этому вернемся. Теперь приступим к random forest!"
   ]
  },
  {
   "cell_type": "code",
   "execution_count": 67,
   "metadata": {},
   "outputs": [
    {
     "data": {
      "text/plain": [
       "0.9831162095099539"
      ]
     },
     "execution_count": 67,
     "metadata": {},
     "output_type": "execute_result"
    }
   ],
   "source": [
    "m = RandomForestRegressor(n_jobs=-1)\n",
    "m.fit(df, y)\n",
    "m.score(df,y)"
   ]
  },
  {
   "cell_type": "markdown",
   "metadata": {},
   "source": [
    "score это R^2, о которой сейчас знать не нужно, поговорим об этом потом. Главное, что 1 - это очень хорошо, а 0 - очень плохо. Мы близки к 1. Но далеко не факт, что мы хорошо справились. Возмжоно это результат переобучения. \n",
    "Единственный способ узнать это - взять другой набор данных. \n",
    "\n",
    "UPD: Выше я написал, что $R^2$ это хрень, о которой знать не нужно. Сейчас через пару лекций я могу сказать, что хорошо бы просто понимать что она делает и зачем нужна. Сейчас мы поучимся разбирать сложные штуки простыми словами и я покажу, что в математике главное - научиться быстро разбираться в формулах и для чего нужны, нежели просто их учить.\n",
    "\n",
    "$R^2$ не что иное, как **Коэффициент детерминации** . Обратимся к википедии.\n",
    "$$R^2 = 1 - \\frac{SS_{res}}{SS_{tot}}$$\n",
    "\n",
    "Общая сумма квадратов: $SS_{tot} =\\sum_{i=1}^n (y_i - \\bar y)^2.$\n",
    "\n",
    "Сумма квадратов остатков регрессии: $SS_{res} =\\sum_{i=1}^n (y_i - f_i)^2.$\n",
    "\n",
    "Выглядит стремно, но сейчас будем разбираться. 1 - что-то деленое на что-то еще.\n",
    "Итак, что такое что-то еще снизу $SS_{tot}$? Что она говорит, так это то, что у нас есть какие-то данные $y_i$ и потом у нас есть их среднее $\\bar y$. И получается, что формула говорит нам, что есть сумма разницы каждой $y_i$ и $\\bar y$. Иными словами она говорит нам как сильно данные варьируются! Еще более простыми словами это метрика, которая показывает нам отклонение от средней величины.\n",
    "\n",
    "Наверху у нас $SS_{res}$, где $f_i$ это предсказания. И теперь вместо $y_i$ - среднее, мы берем $y_i$ - предсказание, то есть $f_i$. И после этого мы смотрим их отношение. Иными словами, если бы мы были так же эффективны как при отколнении от среднего то верх и низ дроби были бы одинаковыми, что давало бы нам 1, а $ 1 - 1 = 0$ Если бы мы разработали сверхпиздатую модель, то $y_i - f_i$ давало бы нам 0 (разницы между предсказанием и фактической величиной бы не было), а $\\frac0{SS_{tot}} = 0$, отсюда следует, что $1 - 0 = 1$ и таким образом $R^2 = 1$ говорит о том, что модель все предсказала идеально!\n",
    "\n",
    "Если все, что написано выше не открывает глаза на происходящее, то разберем практический пример:\n",
    "Представь, что целевая переменная описывается суммой 10 независимых, одинаковых по влиянию случайных факторов. В таком случае, $R^2$ равный 0.6 говорит, что твоя модель столь же хороша, как и точное знание шести из этих 10 факторов.\n",
    "\n",
    "Можно рассмотреть практический пример. Каждый вечер дядя Коля возвращается домой пьяный из кабака. По дороге он встречается с десятью столбами, причем с вероятностью 50% он сталкивается с каждым из них, получая синяк в случае столкновения. Жена дяди Коли, тётя Клава, каждый вечер пытается угадать, сколько синяков принесёт домой пьяный муж. Т.к. столкновения со столбами случайны, то угадывать получается плохо - лучше, чем \"в среднем пять синяков\" не выходит. Коэффициент детерминации такого предсказания - ноль.\n",
    "\n",
    "Однажды тётя Клава обнаружила, что первые два столба обоссаны, и при столкновении с ними дядя Коля пачкает штаны (левую штанину об первый столб, правую - об второй). Таким образом, ещё не смотря на лицо, но вглянув лишь на штаны, тётя Клава может узнать, сталкивался ли Коля с первым и вторым столбом. Это улучшает качество её оценки количества синяков - такая модель имеет $R^2$=0.2.\n",
    "\n",
    "Чтобы получить идеальное предсказание, нужно конечно же как-то угадать результаты столкновения со всеми десятью столбами (например, подглядеть) - это будет модель с $R^2$=1.0. \n",
    "\n",
    "Рисунки хорошо демонстрируют эффект \"переобучения\"\n",
    "<img src=\"images/overfitting2.png\" alt=\"\" style=\"width: 70%\"/>\n",
    "<center>\n",
    "[Underfitting and Overfitting](https://datascience.stackexchange.com/questions/361/when-is-a-model-underfitted)\n",
    "</center>\n",
    "\n",
    "Суть в том, что алгоритм просто \"приспособился\" к данным и не прогнозирует, а действует на основе них."
   ]
  },
  {
   "cell_type": "markdown",
   "metadata": {},
   "source": [
    "Разобъем наши данные на два датасета, чтобы проверить нашу теорию. А потом напишем простой бенчмарк и протестируем решение.\n",
    "\n",
    "Второй датасет назывется validation dataset. В практике Machine Learning создание своего validation dataset'a является одной из самых важных задач. Потому что именно результаты работы алгоритма на этом датасете будут показывать как хорошо поведет себя модель в реальном мире. \n",
    "\n",
    "Здесь есть очень важный момент. При работе с данными, в которых важен временной элемент - в нашем случае это дата продажи оборудования, а предсказать нам нужно цену в конкретный день в будущем, необходимо четко разделять данные. То есть, нельзя рандомно сооставить validation set без оглядки на trainig set. При обучении random forest опирается на данные по времени продажи и формирует паттерны. Поэтому для validation set'а данные должны быть из другого временного сегмента - будущего. Нельзя брать данные из прошлого, настоящего и будущего и пытаться их мешать. В нашем случае мы в самом начале отсортировали данные по времени продажи, поэтому разбитие датасет пополам никак их не перемешивает. Первая половина - наш trainig set(прошлое), вторая половина - наш validation set(условное будущее)."
   ]
  },
  {
   "cell_type": "code",
   "execution_count": 68,
   "metadata": {},
   "outputs": [
    {
     "data": {
      "text/plain": [
       "((389125, 66), (12000, 66), (389125,), (12000,))"
      ]
     },
     "execution_count": 68,
     "metadata": {},
     "output_type": "execute_result"
    }
   ],
   "source": [
    "# функция возвращает копию первой половины датасета и копию второй половины этого же датасета\n",
    "def split_vals(a,n): return a[:n].copy(), a[n:].copy()\n",
    "\n",
    "n_valid = 12000         # размер validation датасета - такой же как на Kaggle соревновании\n",
    "n_trn = len(df)-n_valid # размер тренировочного датасета\n",
    "raw_train, raw_valid = split_vals(df_raw, n_trn)\n",
    "X_train, X_valid = split_vals(df, n_trn)   # разбиваем прочищенный датасет на trainig и validation set'ы\n",
    "y_train, y_valid = split_vals(y, n_trn)    # разбиваем dependent данные на две части под trainig и validation\n",
    "\n",
    "X_train.shape, X_valid.shape, y_train.shape, y_valid.shape"
   ]
  },
  {
   "cell_type": "markdown",
   "metadata": {},
   "source": [
    "Тут мы разбиваем наш обычный датасет на два - первый дата сет тренировчный, то есть на нем будет обучаться наш ИИ, а второй сет для проверки на то, как хорошо ИИ обучился. Как видим, тест датасет у нас 389125 строк на 66 столбцов, а validation сет 12000 строк на 66 столбцов. dependent данные имеют такое же соотношение. Это просто столбец с SalePrice, который нам нужно предсказать.\n",
    "Отлично, теперь прогоним на бенчмарке.\n",
    "\n",
    "# Random Forest"
   ]
  },
  {
   "cell_type": "code",
   "execution_count": 69,
   "metadata": {},
   "outputs": [],
   "source": [
    "def rmse(x,y): return math.sqrt(((x-y)**2).mean()) # RMSE бенчмарк\n",
    "\n",
    "def print_score(m):\n",
    "    res = [rmse(m.predict(X_train), y_train), rmse(m.predict(X_valid), y_valid),\n",
    "                m.score(X_train, y_train), m.score(X_valid, y_valid)]\n",
    "    if hasattr(m, 'oob_score_'): res.append(m.oob_score_)\n",
    "    print(res)"
   ]
  },
  {
   "cell_type": "markdown",
   "metadata": {},
   "source": [
    "Ну тут мы чекаем rmse и квадратичную ошибку. Помним что rmse лучше тем, чем ближе к 0, а квадратичная ошибка\n",
    "лучше тем, чем ближе к 1. `m.predict` - пердасказывание на основе параметров X и y, где Х - данные, а  у - пердсказываемая цена. Функция `print_score` одновременно производит предсказывание и подсчёт rmse и квадратичной ошибки. Параметр `m` на вход функции - это наш ИИ. `%time` - выдает время потраченное на тренировку ИИ"
   ]
  },
  {
   "cell_type": "code",
   "execution_count": 70,
   "metadata": {},
   "outputs": [
    {
     "name": "stdout",
     "output_type": "stream",
     "text": [
      "CPU times: user 1min 7s, sys: 240 ms, total: 1min 7s\n",
      "Wall time: 20 s\n",
      "[0.09010328786418333, 0.24620953500631793, 0.9830325685456183, 0.8917425707485767]\n"
     ]
    }
   ],
   "source": [
    "m = RandomForestRegressor(n_jobs=-1)\n",
    "%time m.fit(X_train, y_train)\n",
    "print_score(m)"
   ]
  },
  {
   "cell_type": "markdown",
   "metadata": {},
   "source": [
    "0.9828440425154366, 0.8888674644201257 это $R^2$ нашего трейнинг датасета и валидейшн датасета. Как видим, у тренировочного результат лучше, что говорит о довольно большом эфекте переобучения. Поэтому с этим мы будем сейчас разбираться.\n",
    "\n",
    "0.248509476724401 - наш результат по RMSE бенчмарку(RMSLE покажет, что мы примерно на 100м месте из 470). Это топ 10% процентов решений на соревновани... Как видите, просто нах*ярив алгоритм без х*йни мы обошли 90% специалистов."
   ]
  },
  {
   "cell_type": "markdown",
   "metadata": {},
   "source": [
    "## Ускоряемся"
   ]
  },
  {
   "cell_type": "markdown",
   "metadata": {},
   "source": [
    "Есть еще одна проблемка с производительностью. Дело в том, что при прототипировании, если что-то работает дольше 10сек, то это начинает раздражать и сильно снижает скорость работы, поэтому можно применить небольшой лайфхак, чтобы ускорить обучение.\n",
    "\n",
    "Нужно передать `subset` параметр `proc_df()` функции, и тогда он рандомно соберет сабсет указанного размера из всех наших данных. В примере я передаю размер в 30000, это значит, что из всего датасета будет использоваться 30к рандомных строк. За счет уменьшения колва обработки данных и достигается повышения скорости.\n",
    "\n",
    "Переменная с именем `_` в питоне часто используется, чтобы опустить какие-то значения. Здесь мы опускаем наш validation set, чтобы не было пересечения с training set'ом. Наш validation set будет оставаться неизменным, т.к. на нем мы проверяем наши модели. Здесь мы просто перетасовываем trainig set в 20000 строк, вместо 389125 и тем самым получаем выигрыш в скорости."
   ]
  },
  {
   "cell_type": "code",
   "execution_count": 71,
   "metadata": {},
   "outputs": [],
   "source": [
    "df_trn, y_trn, nas = proc_df(df_raw, 'SalePrice', subset=30000)\n",
    "X_train, _ = split_vals(df_trn, 20000)\n",
    "y_train, _ = split_vals(y_trn, 20000)"
   ]
  },
  {
   "cell_type": "code",
   "execution_count": 72,
   "metadata": {},
   "outputs": [
    {
     "name": "stdout",
     "output_type": "stream",
     "text": [
      "CPU times: user 2.53 s, sys: 4.06 ms, total: 2.53 s\n",
      "Wall time: 846 ms\n",
      "[0.11319167661305092, 0.34750647132533496, 0.9721946475045602, 0.7843379311920042]\n"
     ]
    }
   ],
   "source": [
    "m = RandomForestRegressor(n_jobs=-1)\n",
    "%time m.fit(X_train, y_train)\n",
    "print_score(m)"
   ]
  },
  {
   "cell_type": "markdown",
   "metadata": {},
   "source": [
    "Как видим, теперь обучение заняло у нас меньше секунды. Дальше с этим маленьким набором данных мы можем посмотреть на работу модели изнутри. Фактически лес (random forest) состоит из деревьев(структур данных). В scykit-learn они их называют не trees, a estimators. Дальше мы попробуем создать простое маленькое дерево."
   ]
  },
  {
   "cell_type": "markdown",
   "metadata": {},
   "source": [
    "## Simple Tree"
   ]
  },
  {
   "cell_type": "code",
   "execution_count": 73,
   "metadata": {},
   "outputs": [
    {
     "name": "stdout",
     "output_type": "stream",
     "text": [
      "[0.531021341286866, 0.5779424331423538, 0.38803952902904926, 0.40349081130636]\n"
     ]
    }
   ],
   "source": [
    "m = RandomForestRegressor(n_estimators=1, max_depth=3, bootstrap=False, n_jobs=-1 )\n",
    "m.fit(X_train, y_train)\n",
    "print_score(m)"
   ]
  },
  {
   "cell_type": "markdown",
   "metadata": {},
   "source": [
    "`n_estimators` - параметр, который отвечает за колво деревьев. Дальше выставляем `max_depth` максимальную глубину дерева до 3х нод и `bootstrap` отключаем рандомизацию. Как видим, $R^2$ упал c 0.764 до 0.396 - это значит, что модель - отстой. Она лучше, чем просто среднее значение (которое давало бы 0), но это та модель, которую мы можем нарисовать и рассмотреть подробнее."
   ]
  },
  {
   "cell_type": "code",
   "execution_count": null,
   "metadata": {},
   "outputs": [],
   "source": [
    "draw_tree(m.estimators_[0], df_trn, precision=3)"
   ]
  },
  {
   "cell_type": "markdown",
   "metadata": {},
   "source": [
    "Итак, дерево состоит из множества бинарных решений. Как видим, изначально модель решила разбить Coupler_System параметр на =< 0.5 - это bool переменная (True или False). Дальше он решил разбить параметр YearMade =< 1991.5 и т.д.\n",
    "\n",
    "Как видим, первая нода содержит 20000 сэмплов - ровно то колво, которое мы выделили при формировании trainig set'a и среднее значение $log$цены равное 10.116. И если мы будем использовать это значение цены, то средняя квадратичная ошибка(mse) будет равна 0.458. Другими словами, это знаменатель в $R^2$, тот самый $SS{tot}$. То есть, самая простая модель, которая состоит из одной ноды и предсказывает среднее значение.\n",
    "\n",
    "Каждый лист дерева - это и есть предсказание. То есть, если у нашей модели всего одно дерево с 10ю листьями, то у нас будет всегод 10 различных сценариев предсказаний. `value` в ноде дерева - и есть конечный результат предикшена.\n",
    "\n",
    "Лучший следующий ход, который мы можем сделать, как выясняется - разбить Coupler_System на =< 0.5 и при выборе ветки с False решением, мы получаем среднеквадратическую ошибку(mse) уже всего 0.112. Это реально улучшает наши показатели. Другая ветка улучшает mse всего до 0.401, что совсем немного, в отличие от False ветки... С другой стороны, True ветка содержит 18253 сэмплов, а False 1747 сэмпла... \n",
    "\n",
    "Чтобы понять Random Forest, мы должны спроектировать его сами с 0. Для того, чтобы спроектировать дерево, нам нужно создать первое бинарное решение. По какому же алгоритму принимать первое решение? \n",
    "\n",
    "На самом деле, идея состоит в том, чтобы перебрать все переменные из датасета и получить бинарное решение, которое будет содержать в себе лучшее сочетание среднеквадратичной ошибки и \"веса\" ноды. Под весом мы подразумеваем количество сэмплов. Как видим, первое бинарное решение на схеме содержит в себе лучшие сочетания \"веса\" и mse для данного датасета. \n",
    "\n",
    "То есть, теперь у нас есть число, которое показывает насколько бинарное разбиение хорошо, а именно среднее арифметическое взвешенное mse. Именно так и действуют деревья. Перебирают все возможные варианты и ищут лучшее бинарное решение основываясь на вышеупомянутое число.\n",
    "\n",
    "Мы можем улучшить наше дерево, если уберем лимит в 3, который выставили изначально. Таким образом мы получим намного более \"глубокое\" и точное решение. Однако, есть еще один способ повысить точность, а имеено созадть лес из деревьев."
   ]
  },
  {
   "cell_type": "markdown",
   "metadata": {},
   "source": [
    "Прежде чем построить лес, давайте посмотрим на то, что произойдет, если создать дерево побольше. Уберем ограничения на глубину. Как видим, мы получли 1 при проверке на тренировочном сете(то есть, нулевое отклонение) и 0.54 на validation сете."
   ]
  },
  {
   "cell_type": "code",
   "execution_count": 75,
   "metadata": {},
   "outputs": [
    {
     "name": "stdout",
     "output_type": "stream",
     "text": [
      "[7.215595591812694e-17, 0.44194506158841035, 1.0, 0.6511935198656649]\n"
     ]
    }
   ],
   "source": [
    "m = RandomForestRegressor(n_estimators=1, bootstrap=False, n_jobs=-1 )\n",
    "m.fit(X_train, y_train)\n",
    "print_score(m)"
   ]
  },
  {
   "cell_type": "markdown",
   "metadata": {},
   "source": [
    "## Bagging"
   ]
  },
  {
   "cell_type": "markdown",
   "metadata": {},
   "source": [
    "Чтобы создать лес, мы будем использовать статистическую технику под названием bagging.\n",
    "\n",
    "Итак, что такое Bagging? Идея Bagging'а заключается в том, чтобы вместо одной модели взять несколько неколлерирующих между собой моделей предсказания. То есть, модели дают предсказания, которые не коллерируют между собой. Таким образом все эти модели получат разные инсайты взаимотношений в датасете. А если взять среднее предсказаний этих моделей, то сможем эффективно получить все эти инсайты в одной метрике. По сути, данные для обучения разбиваются на некореллирующие куски и передаются отдельно каждому дереву. Таким образом у нас получается несколько деревьев, обученных на разных кусках одного датасета, которые получили разные инсайты об этих данных.\n",
    "\n",
    "Начнем разбираться с этим. Для этого снова построим нашу простую модель. По-умолчанию, sklearn создает 10 рандомных деревьев. И на их основе создает одну модель."
   ]
  },
  {
   "cell_type": "code",
   "execution_count": 76,
   "metadata": {},
   "outputs": [
    {
     "name": "stdout",
     "output_type": "stream",
     "text": [
      "[0.11293363954544883, 0.3546715440750154, 0.972321275783548, 0.7753529782628151]\n"
     ]
    }
   ],
   "source": [
    "m = RandomForestRegressor(n_jobs=-1 )\n",
    "m.fit(X_train, y_train)\n",
    "print_score(m)"
   ]
  },
  {
   "cell_type": "markdown",
   "metadata": {},
   "source": [
    "Теперь получим все предикшены от каждого конткретного дерева... После того, как мы построили random forest, каждое дерево хранится в атрибуте `estimators_` нашей модели. Здесь мы используем синтаксис List Comprehension, где вызываем метод `predict()` для каждого отдельного дерева и получаем list массивов предсказаний каждого дерева. `np.stack()` конкатенирует наши массивы на новой оси - таким образом мы получаем 10 строк деревьев и 12000 столбцов предсказаний. Выведем получившиеся предсказания всех 10 деревьев по-отдельности, их среднее и реальное значение, которое предсказывали.\n",
    "\n",
    "Синтаксис Pandas может сбить с толку, поэтому разберем его тоже. \n",
    "`[ : , 0 ]` означает (больше или меньше) `[ первая_строка:последняя_строка , столбец_0 ]` - у нас двумерный массив и мы получаем все значения из столбца 0 (со всех строк)."
   ]
  },
  {
   "cell_type": "code",
   "execution_count": 77,
   "metadata": {},
   "outputs": [
    {
     "data": {
      "text/plain": [
       "(array([ 9.10498,  9.68034,  9.5819 ,  9.21034, 10.59663,  9.10498,  9.04782,  9.5819 , 10.04325,  9.10498]),\n",
       " 9.505713746945627,\n",
       " 9.104979856318357)"
      ]
     },
     "execution_count": 77,
     "metadata": {},
     "output_type": "execute_result"
    }
   ],
   "source": [
    "preds = np.stack([t.predict(X_valid) for t in m.estimators_])\n",
    "preds[:,0], np.mean(preds[:,0]), y_valid[0]"
   ]
  },
  {
   "cell_type": "code",
   "execution_count": 78,
   "metadata": {},
   "outputs": [
    {
     "data": {
      "text/plain": [
       "(10, 12000)"
      ]
     },
     "execution_count": 78,
     "metadata": {},
     "output_type": "execute_result"
    }
   ],
   "source": [
    "preds.shape"
   ]
  },
  {
   "cell_type": "markdown",
   "metadata": {},
   "source": [
    "Как мы видим, каждое предсказание дерева по-отдельности не сильно совпадает с реальным значением, но их среднее 9.3 довольно близко к реальному 9.1\n",
    "Поиграемся еще с этими данными. Построим график, который отражает изменения $R^2$ от использования одного дерева до исопльзования средего всех 10ти деревьев."
   ]
  },
  {
   "cell_type": "markdown",
   "metadata": {},
   "source": [
    "`mp_mean()` принимает параметр `axis`. Параметр `axis` был создан для многомерных массивов. Двухмерный массив имеет две `axis`:\n",
    "- Первый, который идет вертикально вдоль строк (axis 0)\n",
    "- Второй, который идет горизонтально вдоль столбцов (axis 1)\n",
    "\n",
    "Пример: \n",
    "- Допустим, мы хотим просуммировать все строки массива. Мы можем написать следующий код `np_array.sum(axis=1)`, где `np_array` объект типа массива из Numpy.\n",
    "\n",
    "Для наглядности я прикрепил рисунок.\n",
    "![axis=0 vs axis=1](https://i.stack.imgur.com/DL0iQ.jpg) "
   ]
  },
  {
   "cell_type": "code",
   "execution_count": 79,
   "metadata": {},
   "outputs": [
    {
     "data": {
      "image/png": "[encoded data removed]",
      "text/plain": [
       "<Figure size 432x288 with 1 Axes>"
      ]
     },
     "metadata": {},
     "output_type": "display_data"
    }
   ],
   "source": [
    "plt.plot([metrics.r2_score(y_valid, np.mean(preds[:i+1], axis=0)) for i in range(10)]);"
   ]
  },
  {
   "cell_type": "markdown",
   "metadata": {},
   "source": [
    "Итак, вернемся к графику. Как мы видим, чем больше деревьев мы используем, вычисляя их среднее, тем больше точность нашей модели. И как мы видим, последнее значение на графике совпадает с результатом модели, которую мы сделали вначале главы по **Bagging**.\n",
    "\n",
    "Попробуем поэксперементировать. Что если удвоить количество деревьев в нашем Random Forest?"
   ]
  },
  {
   "cell_type": "code",
   "execution_count": 80,
   "metadata": {},
   "outputs": [
    {
     "name": "stdout",
     "output_type": "stream",
     "text": [
      "[0.10176644158422544, 0.3382926406835363, 0.9775245395627987, 0.7956225038638927]\n"
     ]
    }
   ],
   "source": [
    "m = RandomForestRegressor(n_estimators=20, n_jobs=-1)\n",
    "m.fit(X_train, y_train)\n",
    "print_score(m)"
   ]
  },
  {
   "cell_type": "code",
   "execution_count": 81,
   "metadata": {},
   "outputs": [
    {
     "name": "stdout",
     "output_type": "stream",
     "text": [
      "[0.0963560546131039, 0.3295823963917139, 0.9798508171648305, 0.806011498472796]\n"
     ]
    }
   ],
   "source": [
    "m = RandomForestRegressor(n_estimators=40, n_jobs=-1)\n",
    "m.fit(X_train, y_train)\n",
    "print_score(m)"
   ]
  },
  {
   "cell_type": "code",
   "execution_count": 82,
   "metadata": {},
   "outputs": [
    {
     "name": "stdout",
     "output_type": "stream",
     "text": [
      "[0.09372745638529205, 0.32872361409788703, 0.9809351636483434, 0.8070211206368256]\n"
     ]
    }
   ],
   "source": [
    "m = RandomForestRegressor(n_estimators=80, n_jobs=-1)\n",
    "m.fit(X_train, y_train)\n",
    "print_score(m)"
   ]
  },
  {
   "cell_type": "markdown",
   "metadata": {},
   "source": [
    "Как видим, дважды удвоив колво деревьев, мы не получили огромного прироста, но все же он есть! Начальные  **0.750** против **0.766**. Количество деревьев в Random Forest - это первый из так называемых **hyperparametr**'ов, который отвечает за настройку модели. "
   ]
  },
  {
   "cell_type": "markdown",
   "metadata": {},
   "source": [
    "## Out-of-bag (OOB) score"
   ]
  },
  {
   "cell_type": "markdown",
   "metadata": {},
   "source": [
    "Бывает так, что у нас нет достаточного количества данных, чтобы постороить хорошую модель. Что мы делаем в таком случае? Есть один трюк, который довольно уникален для Random Forest - Это использовать те строки из нашего тренировочного датасета, которые не использовались в первом дереве и на основе них построить validation set для этого дерева. То же самое проделать для второго... Потом для все остальных. Таким образом мы получим набор уникальных validation dataset'ов для каждого дерева в Random Forest.\n",
    "\n",
    "sklearn может сделать это за нас, достаточно передать параметр `oob_score`."
   ]
  },
  {
   "cell_type": "code",
   "execution_count": 83,
   "metadata": {},
   "outputs": [
    {
     "name": "stdout",
     "output_type": "stream",
     "text": [
      "[0.09659984536793734, 0.33503017304252924, 0.9797487291605204, 0.7995454967120929, 0.8547434193395034]\n"
     ]
    }
   ],
   "source": [
    "m = RandomForestRegressor(n_estimators=40, n_jobs=-1, oob_score=True)\n",
    "m.fit(X_train, y_train)\n",
    "print_score(m)"
   ]
  },
  {
   "cell_type": "markdown",
   "metadata": {},
   "source": [
    "Как видим, у нас добавился новый параметр в выводе. Это наш oob_score, который может пригодится для настройки дополнительных hyper-параметров. Для этого воспользуемся gird search. Это scklearn функция, куда мы передаем список всех hyper-параметров, которые мы хотим затюнить, и она прорабатывает нашу модель со всеми возомжными комбинациями этих hyper-параметро, после чего выбирает лучшую. И oob score предоставляет этот выбор."
   ]
  },
  {
   "cell_type": "markdown",
   "metadata": {},
   "source": [
    "## Subsampling\n",
    "Лучший способ избежать переобучения и  ускорить обучение модели - использовать технику под названием subsapmling. Вернемся к использованию всего нашего датасета, чтобы продемонстрировать эту технику."
   ]
  },
  {
   "cell_type": "code",
   "execution_count": 84,
   "metadata": {},
   "outputs": [],
   "source": [
    "df_trn, y_trn, nas = proc_df(df_raw, 'SalePrice')\n",
    "X_train, X_valid = split_vals(df_trn, n_trn)\n",
    "y_train, y_valid = split_vals(y_trn, n_trn)"
   ]
  },
  {
   "cell_type": "code",
   "execution_count": 85,
   "metadata": {},
   "outputs": [
    {
     "data": {
      "text/plain": [
       "389125"
      ]
     },
     "execution_count": 85,
     "metadata": {},
     "output_type": "execute_result"
    }
   ],
   "source": [
    "len(X_train)"
   ]
  },
  {
   "cell_type": "markdown",
   "metadata": {},
   "source": [
    "Вместо того, чтобы сознательно ограничивать датасет до 30000, как в прошлый раз, мы будем использовать весь датасет, но при этом функция `set_rf_samples()` будет брать по 20000 сэмплов на дерево, как и в прошлый раз и если у нас будет достаточное кол-во деревьев(Estimators), то наш Random forest покроет весь датасет, что даст бОльшую точность."
   ]
  },
  {
   "cell_type": "code",
   "execution_count": 86,
   "metadata": {},
   "outputs": [],
   "source": [
    "set_rf_samples(20000)"
   ]
  },
  {
   "cell_type": "markdown",
   "metadata": {},
   "source": [
    "Чтобы вернуться к дефолтным настройкам используется функция `reset_rf_samples()`"
   ]
  },
  {
   "cell_type": "code",
   "execution_count": 87,
   "metadata": {},
   "outputs": [
    {
     "name": "stdout",
     "output_type": "stream",
     "text": [
      "CPU times: user 6.76 s, sys: 375 ms, total: 7.13 s\n",
      "Wall time: 3.43 s\n",
      "[0.24112960483471382, 0.2808407278447085, 0.8784833201604766, 0.8591463343406823, 0.8658354320326458]\n"
     ]
    }
   ],
   "source": [
    "m = RandomForestRegressor(n_jobs=-1, oob_score=True)\n",
    "%time m.fit(X_train, y_train)\n",
    "print_score(m)"
   ]
  },
  {
   "cell_type": "markdown",
   "metadata": {},
   "source": [
    "Как мы видим, скорость осталась по-прежнему высокой, а если передать достаточное кол-во деревьев, то точность должна возрасти."
   ]
  },
  {
   "cell_type": "code",
   "execution_count": 88,
   "metadata": {},
   "outputs": [
    {
     "name": "stdout",
     "output_type": "stream",
     "text": [
      "[0.22798123506363266, 0.26277309131876975, 0.8913741894198731, 0.8766867470403782, 0.879795277189731]\n"
     ]
    }
   ],
   "source": [
    "m = RandomForestRegressor(n_estimators=40, n_jobs=-1, oob_score=True)\n",
    "m.fit(X_train, y_train)\n",
    "print_score(m)"
   ]
  },
  {
   "cell_type": "markdown",
   "metadata": {},
   "source": [
    "**0.8755** vs **0.8630** - заметное увеличение точности."
   ]
  },
  {
   "cell_type": "markdown",
   "metadata": {},
   "source": [
    "Самое важное, что можно вынести из того, что мы прошли выше - использование малых датасетов. Они дают точно такие же инсайты касательно данных и возможности улучшения модели, но занимают НАМНОГО меньше времени для проверки гипотез. Очень мало людей в индустрии поступают именно таким образом. Чаще всего все тратят часы на прогон алгоритмов на полных данных... Часто еще бывает и так, что данных - МИЛЛИОНЫ! Если каждое дерево будет обучаться на этих данных, то это займет очень много времени. Поэтому с помощью `set_rf_samples()` можно сознательно ограничить сабсет для каждого дерева.\n",
    "\n",
    "Откатим наш датасет обратно, чтобы не использовать сэмплы по 20к."
   ]
  },
  {
   "cell_type": "code",
   "execution_count": 89,
   "metadata": {},
   "outputs": [],
   "source": [
    "reset_rf_samples()"
   ]
  },
  {
   "cell_type": "markdown",
   "metadata": {},
   "source": [
    "## Три параметра построения Random Forest"
   ]
  },
  {
   "cell_type": "markdown",
   "metadata": {},
   "source": [
    "Построим заново нашу модель на полных данных."
   ]
  },
  {
   "cell_type": "code",
   "execution_count": 90,
   "metadata": {},
   "outputs": [
    {
     "name": "stdout",
     "output_type": "stream",
     "text": [
      "[0.07853858761386709, 0.23942741649078253, 0.987108572813576, 0.8976245714627685, 0.9081702403879317]\n"
     ]
    }
   ],
   "source": [
    "m = RandomForestRegressor(n_estimators=40, n_jobs=-1, oob_score=True)\n",
    "m.fit(X_train, y_train)\n",
    "print_score(m)"
   ]
  },
  {
   "cell_type": "markdown",
   "metadata": {},
   "source": [
    "Как видим, наш oob score лучше, чем реальное предсказание. Все потому что наш validation set это другой временной ряд, а не рандомный сэмпл, что намного сложнее для предсказания."
   ]
  },
  {
   "cell_type": "markdown",
   "metadata": {},
   "source": [
    "Теперь обсудим параметры, которые можно тюнить, чтобы добиться лучшей точности модели. Для борьбы с переобучением можно использовать `min_samples_leaf` параметр, который отвечает за глубину дерева в зависимости от оставшихся параметров на ноду дерева. Объясню, что я имею ввиду. Вот рисунок дерева:\n",
    "![asd](https://discourse-cdn-sjc1.com/business6/uploads/analyticsvidhya/optimized/2X/7/7ce468cbb50a3d544ec059675751b12df984890b_1_532x500.png)"
   ]
  },
  {
   "cell_type": "markdown",
   "metadata": {},
   "source": [
    "Мы видим, что `samples` уменьшается с каждым бинарным решением. Оно и верно, дерево уходит вглубь и все больше \"переобучается\". Если мы выставим наш параметр `min_samples_leaf=10`, то наше дерво не уйдет так глубоко вниз. Как только `samples` станет равен 10, дерево перестанет углубляться. Таким образом оно будет лучше обобщать."
   ]
  },
  {
   "cell_type": "code",
   "execution_count": 91,
   "metadata": {},
   "outputs": [
    {
     "name": "stdout",
     "output_type": "stream",
     "text": [
      "[0.11510475696016774, 0.23475379858629225, 0.9723101010753527, 0.9015822956274573, 0.9082108865856713]\n"
     ]
    }
   ],
   "source": [
    "m = RandomForestRegressor(n_estimators=40, n_jobs=-1, min_samples_leaf=3, oob_score=True)\n",
    "m.fit(X_train, y_train)\n",
    "print_score(m)"
   ]
  },
  {
   "cell_type": "markdown",
   "metadata": {},
   "source": [
    "Мы получили небольшой прирост точности. Следующий параметр, который можно затюнить - `max_features`. Чтобы понять для чего он нужен, представим себе ситуацию, что в наших данных один из столбоцов настолько хорошо дает предсказание, что каждое дерево начинает свое первое бинарное решение именно с него. Тогда почти все деревья будут довольно похожи, что не есть хорошо. Наша задача специально рандомизировать бинарное разбиение, чтобы этого достичь, каждое дерево помимо рандомного сабсета из строк берет рандомный сабсет из столбцов при каждом бинарном разбиении. Очень похоже на то, что мы уже делали - row sampling, когда каждое новое дерево базировалось на рандомном наборе строк. При column sampling каждое бинарное разбиение использует рандомный набор столбцов.\n",
    "\n",
    "В нашем случае `max_features=0.5` говорит о том, чтобы при каждом бинарном разбиении рандомно испльзовалась только половина столбцов."
   ]
  },
  {
   "cell_type": "code",
   "execution_count": 92,
   "metadata": {},
   "outputs": [
    {
     "name": "stdout",
     "output_type": "stream",
     "text": [
      "[0.11912226122522347, 0.22768954561481977, 0.9703434461583845, 0.9074163805980959, 0.9116179867438973]\n"
     ]
    }
   ],
   "source": [
    "m = RandomForestRegressor(n_estimators=40, n_jobs=-1, min_samples_leaf=3, max_features=0.5, oob_score=True)\n",
    "m.fit(X_train, y_train)\n",
    "print_score(m)"
   ]
  },
  {
   "cell_type": "markdown",
   "metadata": {},
   "source": [
    "Как видим, мы еще немного улучшили наши результаты.\n",
    "Чаще всего используются следующие фичи:\n",
    "- 0.5\n",
    "- sqrt\n",
    "- log2"
   ]
  },
  {
   "cell_type": "markdown",
   "metadata": {},
   "source": [
    "sklearn доки [показывают пример](http://scikit-learn.org/stable/auto_examples/ensemble/plot_ensemble_oob.html) разных `max_features` методов с растущим количеством деревьев - как видно, использование max_features требует использования большего количества деревьев, но приводит к улучшению моделей\n",
    "![sklearn max_features chart](http://scikit-learn.org/stable/_images/sphx_glr_plot_ensemble_oob_001.png)"
   ]
  }
 ],
 "metadata": {
  "kernelspec": {
   "display_name": "Python 3",
   "language": "python",
   "name": "python3"
  },
  "language_info": {
   "codemirror_mode": {
    "name": "ipython",
    "version": 3
   },
   "file_extension": ".py",
   "mimetype": "text/x-python",
   "name": "python",
   "nbconvert_exporter": "python",
   "pygments_lexer": "ipython3",
   "version": "3.6.5"
  }
 },
 "nbformat": 4,
 "nbformat_minor": 2
}
